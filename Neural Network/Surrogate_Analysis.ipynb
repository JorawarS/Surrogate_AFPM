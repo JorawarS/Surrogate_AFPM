{
  "nbformat": 4,
  "nbformat_minor": 0,
  "metadata": {
    "colab": {
      "name": "Surrogate Analysis.ipynb",
      "provenance": [],
      "collapsed_sections": []
    },
    "kernelspec": {
      "name": "python3",
      "display_name": "Python 3"
    },
    "language_info": {
      "name": "python"
    },
    "accelerator": "GPU",
    "gpuClass": "standard"
  },
  "cells": [
    {
      "cell_type": "code",
      "execution_count": null,
      "metadata": {
        "id": "_IQ1_tArdBMw"
      },
      "outputs": [],
      "source": [
        "#Import libraries\n",
        "import pandas as pd\n",
        "import numpy as np\n",
        "import matplotlib.pyplot as plt\n",
        "import seaborn as sns\n",
        "from tensorflow.keras.models import Sequential\n",
        "from tensorflow.keras.layers import Dense, Activation\n",
        "from tensorflow.keras.optimizers import Adam"
      ]
    },
    {
      "cell_type": "code",
      "source": [
        "#upload data to your google drive and then import it\n",
        "from google.colab import drive\n",
        "\n",
        "drive.mount('/content/drive')\n"
      ],
      "metadata": {
        "id": "nTCKaH5Gm_HH",
        "colab": {
          "base_uri": "https://localhost:8080/"
        },
        "outputId": "35045170-a5d1-47a9-e154-2d21c0c8e4c0"
      },
      "execution_count": null,
      "outputs": [
        {
          "output_type": "stream",
          "name": "stdout",
          "text": [
            "Drive already mounted at /content/drive; to attempt to forcibly remount, call drive.mount(\"/content/drive\", force_remount=True).\n"
          ]
        }
      ]
    },
    {
      "cell_type": "code",
      "source": [
        "%cd drive/MyDrive/Colab Notebooks/Surrogate Model AFPM"
      ],
      "metadata": {
        "id": "ITDcHLecpIGB",
        "colab": {
          "base_uri": "https://localhost:8080/"
        },
        "outputId": "1faf2fa5-cf9d-4d05-e5f9-d3bd8f3ee3da"
      },
      "execution_count": null,
      "outputs": [
        {
          "output_type": "stream",
          "name": "stdout",
          "text": [
            "/content/drive/MyDrive/Colab Notebooks/Surrogate Model AFPM\n"
          ]
        }
      ]
    },
    {
      "cell_type": "code",
      "source": [
        "df=pd.read_excel('Data.xlsx')"
      ],
      "metadata": {
        "id": "IgzNfC_Mj-2d"
      },
      "execution_count": null,
      "outputs": []
    },
    {
      "cell_type": "code",
      "source": [
        "df.drop(['Column1','Column2','Column3','Column4'],inplace=True,axis=1) #Drop torque outputs on stator and keep torque values on rotor only"
      ],
      "metadata": {
        "id": "ebAKsD91ZQRf"
      },
      "execution_count": null,
      "outputs": []
    },
    {
      "cell_type": "code",
      "source": [
        "#Plot distribution of ouput values to be predicted \n",
        "tq_fig=df[['Column5','Column6','Column7','Column8']].hist(bins=100)\n",
        "tq_fig[0,0].set_title('Torque(Nm) at 0 ' + u'\\N{DEGREE SIGN}')\n",
        "tq_fig[0,0].set_xlabel('Torque(Nm)')\n",
        "tq_fig[0,0].set_ylabel('Count')\n",
        "\n",
        "tq_fig[0,1].set_title('Torque(Nm) at 5 ' + u'\\N{DEGREE SIGN}')\n",
        "tq_fig[0,1].set_xlabel('Torque(Nm)')\n",
        "tq_fig[0,1].set_ylabel('Count')\n",
        "\n",
        "tq_fig[1,0].set_title('Torque(Nm) at 10 ' + u'\\N{DEGREE SIGN}')\n",
        "tq_fig[1,0].set_xlabel('Torque(Nm)')\n",
        "tq_fig[1,0].set_ylabel('Count')\n",
        "\n",
        "tq_fig[1,1].set_title('Torque(Nm) at 15 ' + u'\\N{DEGREE SIGN}')\n",
        "tq_fig[1,1].set_xlabel('Torque(Nm)')\n",
        "tq_fig[1,1].set_ylabel('Count')\n",
        "plt.tight_layout()\n",
        "plt.savefig('dist_outputs',dpi=400)"
      ],
      "metadata": {
        "colab": {
          "base_uri": "https://localhost:8080/",
          "height": 297
        },
        "id": "7-91pS9Emowm",
        "outputId": "640803cb-5b6e-493e-e6ca-70dde9c0484a"
      },
      "execution_count": null,
      "outputs": [
        {
          "output_type": "display_data",
          "data": {
            "text/plain": [
              "<Figure size 432x288 with 4 Axes>"
            ],
            "image/png": "[encoded data removed]"
          },
          "metadata": {
            "needs_background": "light"
          }
        }
      ]
    },
    {
      "cell_type": "code",
      "source": [
        "print(df.sample(10).to_latex()) #for thesis writing purposes"
      ],
      "metadata": {
        "colab": {
          "base_uri": "https://localhost:8080/"
        },
        "id": "vrjIY5QbpczT",
        "outputId": "7ce08e54-92a9-4cd3-8174-bb91937b9529"
      },
      "execution_count": null,
      "outputs": [
        {
          "output_type": "stream",
          "name": "stdout",
          "text": [
            "\\begin{tabular}{lrlrrrrrr}\n",
            "\\toprule\n",
            "{} &  AIR GAP(mm) &                  PM MATERIAL &  PM THICKNESS(mm) &  PM ANGLE(degree) &     Column5 &     Column6 &     Column7 &     Column8 \\\\\n",
            "\\midrule\n",
            "11731 &          0.5 &                   Ceramic 8A &               8.0 &              30.0 &  130.793988 &   96.143799 &   89.914036 &   83.023094 \\\\\n",
            "3547  &          6.0 &                   Ceramic 8A &               9.5 &              30.0 &   47.637906 &   39.496468 &   36.530242 &   31.625646 \\\\\n",
            "11607 &          0.5 &             AL9N: Alnico-9NB &               7.5 &              10.0 &  250.344765 &  135.100493 &  101.634581 &   66.259158 \\\\\n",
            "8012  &          2.0 &                   Ceramic 8A &               2.5 &              25.0 &   21.830480 &   16.895418 &   14.473011 &    9.354647 \\\\\n",
            "6896  &          3.0 &                   Ceramic 8A &               4.0 &              45.0 &   58.241465 &   40.030350 &   37.487143 &   36.201677 \\\\\n",
            "5519  &          4.0 &  Neodymium Iron Boron: 32/31 &               5.5 &              10.0 &  100.255677 &   74.772342 &   55.590338 &   29.884468 \\\\\n",
            "5267  &          4.5 &                   Ceramic 8A &               4.0 &              30.0 &   23.097950 &   19.125728 &   16.815906 &   13.643962 \\\\\n",
            "10671 &          0.7 &                   Ceramic 8A &               6.5 &              10.0 &   34.753116 &   23.329483 &   18.419754 &   13.192907 \\\\\n",
            "6172  &          3.5 &             AL9N: Alnico-9NB &               7.0 &              25.0 &   51.204164 &   38.350327 &   34.877081 &   25.015220 \\\\\n",
            "7533  &          2.5 &       Samarium Cobalt: 26/10 &               7.0 &              20.0 &  270.614297 &  209.699997 &  200.191942 &  150.863261 \\\\\n",
            "\\bottomrule\n",
            "\\end{tabular}\n",
            "\n"
          ]
        }
      ]
    },
    {
      "cell_type": "code",
      "source": [
        "material = pd.get_dummies(df['PM MATERIAL'],drop_first=True) #make dummy variables for text values of material"
      ],
      "metadata": {
        "id": "D8MxrhT1lNnc"
      },
      "execution_count": null,
      "outputs": []
    },
    {
      "cell_type": "code",
      "source": [
        "print(material.sample(10).to_latex()) #for thesis writing purposes"
      ],
      "metadata": {
        "colab": {
          "base_uri": "https://localhost:8080/"
        },
        "id": "EfdWs-UPY3Gc",
        "outputId": "9f5d0919-b818-4881-e3f5-6b9d603a3910"
      },
      "execution_count": null,
      "outputs": [
        {
          "output_type": "stream",
          "name": "stdout",
          "text": [
            "\\begin{tabular}{lrrr}\n",
            "\\toprule\n",
            "{} &  Ceramic 8A &  Neodymium Iron Boron: 32/31 &  Samarium Cobalt: 26/10 \\\\\n",
            "\\midrule\n",
            "12226 &           0 &                            0 &                       0 \\\\\n",
            "7430  &           1 &                            0 &                       0 \\\\\n",
            "10763 &           0 &                            0 &                       1 \\\\\n",
            "1867  &           0 &                            0 &                       0 \\\\\n",
            "5254  &           1 &                            0 &                       0 \\\\\n",
            "7400  &           1 &                            0 &                       0 \\\\\n",
            "12003 &           0 &                            1 &                       0 \\\\\n",
            "558   &           0 &                            1 &                       0 \\\\\n",
            "6004  &           0 &                            1 &                       0 \\\\\n",
            "14139 &           0 &                            0 &                       1 \\\\\n",
            "\\bottomrule\n",
            "\\end{tabular}\n",
            "\n"
          ]
        }
      ]
    },
    {
      "cell_type": "code",
      "source": [
        "df=pd.concat([df,material],axis=1) #concatenate dummy variables back to table"
      ],
      "metadata": {
        "id": "RYs13qgaaKlz"
      },
      "execution_count": null,
      "outputs": []
    },
    {
      "cell_type": "code",
      "source": [
        "df.drop('PM MATERIAL',inplace=True,axis=1) #drop original material column"
      ],
      "metadata": {
        "id": "DE9xoByga-5p"
      },
      "execution_count": null,
      "outputs": []
    },
    {
      "cell_type": "code",
      "source": [
        "df"
      ],
      "metadata": {
        "colab": {
          "base_uri": "https://localhost:8080/",
          "height": 502
        },
        "id": "q7ckE2lMMHq7",
        "outputId": "e23e52c8-41f4-485a-c05b-3488304ea24f"
      },
      "execution_count": null,
      "outputs": [
        {
          "output_type": "execute_result",
          "data": {
            "text/plain": [
              "       AIR GAP(mm)  PM THICKNESS(mm)  PM ANGLE(degree)     Column5  \\\n",
              "0             10.0              10.0              45.0  256.186983   \n",
              "1             10.0              10.0              40.0  245.922283   \n",
              "2             10.0              10.0              35.0  226.632749   \n",
              "3             10.0              10.0              30.0  210.761507   \n",
              "4             10.0              10.0              25.0  190.430890   \n",
              "...            ...               ...               ...         ...   \n",
              "14139          0.1               2.0              30.0  539.982217   \n",
              "14140          0.1               2.0              25.0  517.422528   \n",
              "14141          0.1               2.0              20.0  491.769405   \n",
              "14142          0.1               2.0              15.0  495.890451   \n",
              "14143          0.1               2.0              10.0  395.045881   \n",
              "\n",
              "          Column6     Column7     Column8  Ceramic 8A  \\\n",
              "0      185.251201  175.821860  174.369188           0   \n",
              "1      177.225402  169.921967  165.089137           0   \n",
              "2      165.435742  160.909018  155.031364           0   \n",
              "3      157.238759  147.947251  138.542012           0   \n",
              "4      138.810302  132.007566  113.409976           0   \n",
              "...           ...         ...         ...         ...   \n",
              "14139  374.563195  380.660703  426.891224           0   \n",
              "14140  350.200575  401.901944  447.117508           0   \n",
              "14141  369.300098  397.385491  309.000583           0   \n",
              "14142  384.820252  286.383277  258.952629           0   \n",
              "14143  225.969525  189.497543  196.658695           0   \n",
              "\n",
              "       Neodymium Iron Boron: 32/31  Samarium Cobalt: 26/10  \n",
              "0                                1                       0  \n",
              "1                                1                       0  \n",
              "2                                1                       0  \n",
              "3                                1                       0  \n",
              "4                                1                       0  \n",
              "...                            ...                     ...  \n",
              "14139                            0                       1  \n",
              "14140                            0                       1  \n",
              "14141                            0                       1  \n",
              "14142                            0                       1  \n",
              "14143                            0                       1  \n",
              "\n",
              "[14144 rows x 10 columns]"
            ],
            "text/html": [
              "\n",
              "  <div id=\"df-f0f7eda1-9cf6-4db7-b12d-3b96f174b3f6\">\n",
              "    <div class=\"colab-df-container\">\n",
              "      <div>\n",
              "<style scoped>\n",
              "    .dataframe tbody tr th:only-of-type {\n",
              "        vertical-align: middle;\n",
              "    }\n",
              "\n",
              "    .dataframe tbody tr th {\n",
              "        vertical-align: top;\n",
              "    }\n",
              "\n",
              "    .dataframe thead th {\n",
              "        text-align: right;\n",
              "    }\n",
              "</style>\n",
              "<table border=\"1\" class=\"dataframe\">\n",
              "  <thead>\n",
              "    <tr style=\"text-align: right;\">\n",
              "      <th></th>\n",
              "      <th>AIR GAP(mm)</th>\n",
              "      <th>PM THICKNESS(mm)</th>\n",
              "      <th>PM ANGLE(degree)</th>\n",
              "      <th>Column5</th>\n",
              "      <th>Column6</th>\n",
              "      <th>Column7</th>\n",
              "      <th>Column8</th>\n",
              "      <th>Ceramic 8A</th>\n",
              "      <th>Neodymium Iron Boron: 32/31</th>\n",
              "      <th>Samarium Cobalt: 26/10</th>\n",
              "    </tr>\n",
              "  </thead>\n",
              "  <tbody>\n",
              "    <tr>\n",
              "      <th>0</th>\n",
              "      <td>10.0</td>\n",
              "      <td>10.0</td>\n",
              "      <td>45.0</td>\n",
              "      <td>256.186983</td>\n",
              "      <td>185.251201</td>\n",
              "      <td>175.821860</td>\n",
              "      <td>174.369188</td>\n",
              "      <td>0</td>\n",
              "      <td>1</td>\n",
              "      <td>0</td>\n",
              "    </tr>\n",
              "    <tr>\n",
              "      <th>1</th>\n",
              "      <td>10.0</td>\n",
              "      <td>10.0</td>\n",
              "      <td>40.0</td>\n",
              "      <td>245.922283</td>\n",
              "      <td>177.225402</td>\n",
              "      <td>169.921967</td>\n",
              "      <td>165.089137</td>\n",
              "      <td>0</td>\n",
              "      <td>1</td>\n",
              "      <td>0</td>\n",
              "    </tr>\n",
              "    <tr>\n",
              "      <th>2</th>\n",
              "      <td>10.0</td>\n",
              "      <td>10.0</td>\n",
              "      <td>35.0</td>\n",
              "      <td>226.632749</td>\n",
              "      <td>165.435742</td>\n",
              "      <td>160.909018</td>\n",
              "      <td>155.031364</td>\n",
              "      <td>0</td>\n",
              "      <td>1</td>\n",
              "      <td>0</td>\n",
              "    </tr>\n",
              "    <tr>\n",
              "      <th>3</th>\n",
              "      <td>10.0</td>\n",
              "      <td>10.0</td>\n",
              "      <td>30.0</td>\n",
              "      <td>210.761507</td>\n",
              "      <td>157.238759</td>\n",
              "      <td>147.947251</td>\n",
              "      <td>138.542012</td>\n",
              "      <td>0</td>\n",
              "      <td>1</td>\n",
              "      <td>0</td>\n",
              "    </tr>\n",
              "    <tr>\n",
              "      <th>4</th>\n",
              "      <td>10.0</td>\n",
              "      <td>10.0</td>\n",
              "      <td>25.0</td>\n",
              "      <td>190.430890</td>\n",
              "      <td>138.810302</td>\n",
              "      <td>132.007566</td>\n",
              "      <td>113.409976</td>\n",
              "      <td>0</td>\n",
              "      <td>1</td>\n",
              "      <td>0</td>\n",
              "    </tr>\n",
              "    <tr>\n",
              "      <th>...</th>\n",
              "      <td>...</td>\n",
              "      <td>...</td>\n",
              "      <td>...</td>\n",
              "      <td>...</td>\n",
              "      <td>...</td>\n",
              "      <td>...</td>\n",
              "      <td>...</td>\n",
              "      <td>...</td>\n",
              "      <td>...</td>\n",
              "      <td>...</td>\n",
              "    </tr>\n",
              "    <tr>\n",
              "      <th>14139</th>\n",
              "      <td>0.1</td>\n",
              "      <td>2.0</td>\n",
              "      <td>30.0</td>\n",
              "      <td>539.982217</td>\n",
              "      <td>374.563195</td>\n",
              "      <td>380.660703</td>\n",
              "      <td>426.891224</td>\n",
              "      <td>0</td>\n",
              "      <td>0</td>\n",
              "      <td>1</td>\n",
              "    </tr>\n",
              "    <tr>\n",
              "      <th>14140</th>\n",
              "      <td>0.1</td>\n",
              "      <td>2.0</td>\n",
              "      <td>25.0</td>\n",
              "      <td>517.422528</td>\n",
              "      <td>350.200575</td>\n",
              "      <td>401.901944</td>\n",
              "      <td>447.117508</td>\n",
              "      <td>0</td>\n",
              "      <td>0</td>\n",
              "      <td>1</td>\n",
              "    </tr>\n",
              "    <tr>\n",
              "      <th>14141</th>\n",
              "      <td>0.1</td>\n",
              "      <td>2.0</td>\n",
              "      <td>20.0</td>\n",
              "      <td>491.769405</td>\n",
              "      <td>369.300098</td>\n",
              "      <td>397.385491</td>\n",
              "      <td>309.000583</td>\n",
              "      <td>0</td>\n",
              "      <td>0</td>\n",
              "      <td>1</td>\n",
              "    </tr>\n",
              "    <tr>\n",
              "      <th>14142</th>\n",
              "      <td>0.1</td>\n",
              "      <td>2.0</td>\n",
              "      <td>15.0</td>\n",
              "      <td>495.890451</td>\n",
              "      <td>384.820252</td>\n",
              "      <td>286.383277</td>\n",
              "      <td>258.952629</td>\n",
              "      <td>0</td>\n",
              "      <td>0</td>\n",
              "      <td>1</td>\n",
              "    </tr>\n",
              "    <tr>\n",
              "      <th>14143</th>\n",
              "      <td>0.1</td>\n",
              "      <td>2.0</td>\n",
              "      <td>10.0</td>\n",
              "      <td>395.045881</td>\n",
              "      <td>225.969525</td>\n",
              "      <td>189.497543</td>\n",
              "      <td>196.658695</td>\n",
              "      <td>0</td>\n",
              "      <td>0</td>\n",
              "      <td>1</td>\n",
              "    </tr>\n",
              "  </tbody>\n",
              "</table>\n",
              "<p>14144 rows × 10 columns</p>\n",
              "</div>\n",
              "      <button class=\"colab-df-convert\" onclick=\"convertToInteractive('df-f0f7eda1-9cf6-4db7-b12d-3b96f174b3f6')\"\n",
              "              title=\"Convert this dataframe to an interactive table.\"\n",
              "              style=\"display:none;\">\n",
              "        \n",
              "  <svg xmlns=\"http://www.w3.org/2000/svg\" height=\"24px\"viewBox=\"0 0 24 24\"\n",
              "       width=\"24px\">\n",
              "    <path d=\"M0 0h24v24H0V0z\" fill=\"none\"/>\n",
              "    <path d=\"M18.56 5.44l.94 2.06.94-2.06 2.06-.94-2.06-.94-.94-2.06-.94 2.06-2.06.94zm-11 1L8.5 8.5l.94-2.06 2.06-.94-2.06-.94L8.5 2.5l-.94 2.06-2.06.94zm10 10l.94 2.06.94-2.06 2.06-.94-2.06-.94-.94-2.06-.94 2.06-2.06.94z\"/><path d=\"M17.41 7.96l-1.37-1.37c-.4-.4-.92-.59-1.43-.59-.52 0-1.04.2-1.43.59L10.3 9.45l-7.72 7.72c-.78.78-.78 2.05 0 2.83L4 21.41c.39.39.9.59 1.41.59.51 0 1.02-.2 1.41-.59l7.78-7.78 2.81-2.81c.8-.78.8-2.07 0-2.86zM5.41 20L4 18.59l7.72-7.72 1.47 1.35L5.41 20z\"/>\n",
              "  </svg>\n",
              "      </button>\n",
              "      \n",
              "  <style>\n",
              "    .colab-df-container {\n",
              "      display:flex;\n",
              "      flex-wrap:wrap;\n",
              "      gap: 12px;\n",
              "    }\n",
              "\n",
              "    .colab-df-convert {\n",
              "      background-color: #E8F0FE;\n",
              "      border: none;\n",
              "      border-radius: 50%;\n",
              "      cursor: pointer;\n",
              "      display: none;\n",
              "      fill: #1967D2;\n",
              "      height: 32px;\n",
              "      padding: 0 0 0 0;\n",
              "      width: 32px;\n",
              "    }\n",
              "\n",
              "    .colab-df-convert:hover {\n",
              "      background-color: #E2EBFA;\n",
              "      box-shadow: 0px 1px 2px rgba(60, 64, 67, 0.3), 0px 1px 3px 1px rgba(60, 64, 67, 0.15);\n",
              "      fill: #174EA6;\n",
              "    }\n",
              "\n",
              "    [theme=dark] .colab-df-convert {\n",
              "      background-color: #3B4455;\n",
              "      fill: #D2E3FC;\n",
              "    }\n",
              "\n",
              "    [theme=dark] .colab-df-convert:hover {\n",
              "      background-color: #434B5C;\n",
              "      box-shadow: 0px 1px 3px 1px rgba(0, 0, 0, 0.15);\n",
              "      filter: drop-shadow(0px 1px 2px rgba(0, 0, 0, 0.3));\n",
              "      fill: #FFFFFF;\n",
              "    }\n",
              "  </style>\n",
              "\n",
              "      <script>\n",
              "        const buttonEl =\n",
              "          document.querySelector('#df-f0f7eda1-9cf6-4db7-b12d-3b96f174b3f6 button.colab-df-convert');\n",
              "        buttonEl.style.display =\n",
              "          google.colab.kernel.accessAllowed ? 'block' : 'none';\n",
              "\n",
              "        async function convertToInteractive(key) {\n",
              "          const element = document.querySelector('#df-f0f7eda1-9cf6-4db7-b12d-3b96f174b3f6');\n",
              "          const dataTable =\n",
              "            await google.colab.kernel.invokeFunction('convertToInteractive',\n",
              "                                                     [key], {});\n",
              "          if (!dataTable) return;\n",
              "\n",
              "          const docLinkHtml = 'Like what you see? Visit the ' +\n",
              "            '<a target=\"_blank\" href=https://colab.research.google.com/notebooks/data_table.ipynb>data table notebook</a>'\n",
              "            + ' to learn more about interactive tables.';\n",
              "          element.innerHTML = '';\n",
              "          dataTable['output_type'] = 'display_data';\n",
              "          await google.colab.output.renderOutput(dataTable, element);\n",
              "          const docLink = document.createElement('div');\n",
              "          docLink.innerHTML = docLinkHtml;\n",
              "          element.appendChild(docLink);\n",
              "        }\n",
              "      </script>\n",
              "    </div>\n",
              "  </div>\n",
              "  "
            ]
          },
          "metadata": {},
          "execution_count": 13
        }
      ]
    },
    {
      "cell_type": "markdown",
      "source": [
        "REMOVE LOW TORQUE VALUES"
      ],
      "metadata": {
        "id": "5uUdDV5X_KM5"
      }
    },
    {
      "cell_type": "code",
      "source": [
        "df[df['Column5']>50]"
      ],
      "metadata": {
        "colab": {
          "base_uri": "https://localhost:8080/",
          "height": 502
        },
        "id": "F4PJyAqP_O3D",
        "outputId": "3fce0fb1-53af-403c-8f66-04f66a522439"
      },
      "execution_count": null,
      "outputs": [
        {
          "output_type": "execute_result",
          "data": {
            "text/plain": [
              "       AIR GAP(mm)  PM THICKNESS(mm)  PM ANGLE(degree)     Column5  \\\n",
              "0             10.0              10.0              45.0  256.186983   \n",
              "1             10.0              10.0              40.0  245.922283   \n",
              "2             10.0              10.0              35.0  226.632749   \n",
              "3             10.0              10.0              30.0  210.761507   \n",
              "4             10.0              10.0              25.0  190.430890   \n",
              "...            ...               ...               ...         ...   \n",
              "14139          0.1               2.0              30.0  539.982217   \n",
              "14140          0.1               2.0              25.0  517.422528   \n",
              "14141          0.1               2.0              20.0  491.769405   \n",
              "14142          0.1               2.0              15.0  495.890451   \n",
              "14143          0.1               2.0              10.0  395.045881   \n",
              "\n",
              "          Column6     Column7     Column8  Ceramic 8A  \\\n",
              "0      185.251201  175.821860  174.369188           0   \n",
              "1      177.225402  169.921967  165.089137           0   \n",
              "2      165.435742  160.909018  155.031364           0   \n",
              "3      157.238759  147.947251  138.542012           0   \n",
              "4      138.810302  132.007566  113.409976           0   \n",
              "...           ...         ...         ...         ...   \n",
              "14139  374.563195  380.660703  426.891224           0   \n",
              "14140  350.200575  401.901944  447.117508           0   \n",
              "14141  369.300098  397.385491  309.000583           0   \n",
              "14142  384.820252  286.383277  258.952629           0   \n",
              "14143  225.969525  189.497543  196.658695           0   \n",
              "\n",
              "       Neodymium Iron Boron: 32/31  Samarium Cobalt: 26/10  \n",
              "0                                1                       0  \n",
              "1                                1                       0  \n",
              "2                                1                       0  \n",
              "3                                1                       0  \n",
              "4                                1                       0  \n",
              "...                            ...                     ...  \n",
              "14139                            0                       1  \n",
              "14140                            0                       1  \n",
              "14141                            0                       1  \n",
              "14142                            0                       1  \n",
              "14143                            0                       1  \n",
              "\n",
              "[10103 rows x 10 columns]"
            ],
            "text/html": [
              "\n",
              "  <div id=\"df-63b5b6f4-175a-473e-8d0d-b82746aacbe2\">\n",
              "    <div class=\"colab-df-container\">\n",
              "      <div>\n",
              "<style scoped>\n",
              "    .dataframe tbody tr th:only-of-type {\n",
              "        vertical-align: middle;\n",
              "    }\n",
              "\n",
              "    .dataframe tbody tr th {\n",
              "        vertical-align: top;\n",
              "    }\n",
              "\n",
              "    .dataframe thead th {\n",
              "        text-align: right;\n",
              "    }\n",
              "</style>\n",
              "<table border=\"1\" class=\"dataframe\">\n",
              "  <thead>\n",
              "    <tr style=\"text-align: right;\">\n",
              "      <th></th>\n",
              "      <th>AIR GAP(mm)</th>\n",
              "      <th>PM THICKNESS(mm)</th>\n",
              "      <th>PM ANGLE(degree)</th>\n",
              "      <th>Column5</th>\n",
              "      <th>Column6</th>\n",
              "      <th>Column7</th>\n",
              "      <th>Column8</th>\n",
              "      <th>Ceramic 8A</th>\n",
              "      <th>Neodymium Iron Boron: 32/31</th>\n",
              "      <th>Samarium Cobalt: 26/10</th>\n",
              "    </tr>\n",
              "  </thead>\n",
              "  <tbody>\n",
              "    <tr>\n",
              "      <th>0</th>\n",
              "      <td>10.0</td>\n",
              "      <td>10.0</td>\n",
              "      <td>45.0</td>\n",
              "      <td>256.186983</td>\n",
              "      <td>185.251201</td>\n",
              "      <td>175.821860</td>\n",
              "      <td>174.369188</td>\n",
              "      <td>0</td>\n",
              "      <td>1</td>\n",
              "      <td>0</td>\n",
              "    </tr>\n",
              "    <tr>\n",
              "      <th>1</th>\n",
              "      <td>10.0</td>\n",
              "      <td>10.0</td>\n",
              "      <td>40.0</td>\n",
              "      <td>245.922283</td>\n",
              "      <td>177.225402</td>\n",
              "      <td>169.921967</td>\n",
              "      <td>165.089137</td>\n",
              "      <td>0</td>\n",
              "      <td>1</td>\n",
              "      <td>0</td>\n",
              "    </tr>\n",
              "    <tr>\n",
              "      <th>2</th>\n",
              "      <td>10.0</td>\n",
              "      <td>10.0</td>\n",
              "      <td>35.0</td>\n",
              "      <td>226.632749</td>\n",
              "      <td>165.435742</td>\n",
              "      <td>160.909018</td>\n",
              "      <td>155.031364</td>\n",
              "      <td>0</td>\n",
              "      <td>1</td>\n",
              "      <td>0</td>\n",
              "    </tr>\n",
              "    <tr>\n",
              "      <th>3</th>\n",
              "      <td>10.0</td>\n",
              "      <td>10.0</td>\n",
              "      <td>30.0</td>\n",
              "      <td>210.761507</td>\n",
              "      <td>157.238759</td>\n",
              "      <td>147.947251</td>\n",
              "      <td>138.542012</td>\n",
              "      <td>0</td>\n",
              "      <td>1</td>\n",
              "      <td>0</td>\n",
              "    </tr>\n",
              "    <tr>\n",
              "      <th>4</th>\n",
              "      <td>10.0</td>\n",
              "      <td>10.0</td>\n",
              "      <td>25.0</td>\n",
              "      <td>190.430890</td>\n",
              "      <td>138.810302</td>\n",
              "      <td>132.007566</td>\n",
              "      <td>113.409976</td>\n",
              "      <td>0</td>\n",
              "      <td>1</td>\n",
              "      <td>0</td>\n",
              "    </tr>\n",
              "    <tr>\n",
              "      <th>...</th>\n",
              "      <td>...</td>\n",
              "      <td>...</td>\n",
              "      <td>...</td>\n",
              "      <td>...</td>\n",
              "      <td>...</td>\n",
              "      <td>...</td>\n",
              "      <td>...</td>\n",
              "      <td>...</td>\n",
              "      <td>...</td>\n",
              "      <td>...</td>\n",
              "    </tr>\n",
              "    <tr>\n",
              "      <th>14139</th>\n",
              "      <td>0.1</td>\n",
              "      <td>2.0</td>\n",
              "      <td>30.0</td>\n",
              "      <td>539.982217</td>\n",
              "      <td>374.563195</td>\n",
              "      <td>380.660703</td>\n",
              "      <td>426.891224</td>\n",
              "      <td>0</td>\n",
              "      <td>0</td>\n",
              "      <td>1</td>\n",
              "    </tr>\n",
              "    <tr>\n",
              "      <th>14140</th>\n",
              "      <td>0.1</td>\n",
              "      <td>2.0</td>\n",
              "      <td>25.0</td>\n",
              "      <td>517.422528</td>\n",
              "      <td>350.200575</td>\n",
              "      <td>401.901944</td>\n",
              "      <td>447.117508</td>\n",
              "      <td>0</td>\n",
              "      <td>0</td>\n",
              "      <td>1</td>\n",
              "    </tr>\n",
              "    <tr>\n",
              "      <th>14141</th>\n",
              "      <td>0.1</td>\n",
              "      <td>2.0</td>\n",
              "      <td>20.0</td>\n",
              "      <td>491.769405</td>\n",
              "      <td>369.300098</td>\n",
              "      <td>397.385491</td>\n",
              "      <td>309.000583</td>\n",
              "      <td>0</td>\n",
              "      <td>0</td>\n",
              "      <td>1</td>\n",
              "    </tr>\n",
              "    <tr>\n",
              "      <th>14142</th>\n",
              "      <td>0.1</td>\n",
              "      <td>2.0</td>\n",
              "      <td>15.0</td>\n",
              "      <td>495.890451</td>\n",
              "      <td>384.820252</td>\n",
              "      <td>286.383277</td>\n",
              "      <td>258.952629</td>\n",
              "      <td>0</td>\n",
              "      <td>0</td>\n",
              "      <td>1</td>\n",
              "    </tr>\n",
              "    <tr>\n",
              "      <th>14143</th>\n",
              "      <td>0.1</td>\n",
              "      <td>2.0</td>\n",
              "      <td>10.0</td>\n",
              "      <td>395.045881</td>\n",
              "      <td>225.969525</td>\n",
              "      <td>189.497543</td>\n",
              "      <td>196.658695</td>\n",
              "      <td>0</td>\n",
              "      <td>0</td>\n",
              "      <td>1</td>\n",
              "    </tr>\n",
              "  </tbody>\n",
              "</table>\n",
              "<p>10103 rows × 10 columns</p>\n",
              "</div>\n",
              "      <button class=\"colab-df-convert\" onclick=\"convertToInteractive('df-63b5b6f4-175a-473e-8d0d-b82746aacbe2')\"\n",
              "              title=\"Convert this dataframe to an interactive table.\"\n",
              "              style=\"display:none;\">\n",
              "        \n",
              "  <svg xmlns=\"http://www.w3.org/2000/svg\" height=\"24px\"viewBox=\"0 0 24 24\"\n",
              "       width=\"24px\">\n",
              "    <path d=\"M0 0h24v24H0V0z\" fill=\"none\"/>\n",
              "    <path d=\"M18.56 5.44l.94 2.06.94-2.06 2.06-.94-2.06-.94-.94-2.06-.94 2.06-2.06.94zm-11 1L8.5 8.5l.94-2.06 2.06-.94-2.06-.94L8.5 2.5l-.94 2.06-2.06.94zm10 10l.94 2.06.94-2.06 2.06-.94-2.06-.94-.94-2.06-.94 2.06-2.06.94z\"/><path d=\"M17.41 7.96l-1.37-1.37c-.4-.4-.92-.59-1.43-.59-.52 0-1.04.2-1.43.59L10.3 9.45l-7.72 7.72c-.78.78-.78 2.05 0 2.83L4 21.41c.39.39.9.59 1.41.59.51 0 1.02-.2 1.41-.59l7.78-7.78 2.81-2.81c.8-.78.8-2.07 0-2.86zM5.41 20L4 18.59l7.72-7.72 1.47 1.35L5.41 20z\"/>\n",
              "  </svg>\n",
              "      </button>\n",
              "      \n",
              "  <style>\n",
              "    .colab-df-container {\n",
              "      display:flex;\n",
              "      flex-wrap:wrap;\n",
              "      gap: 12px;\n",
              "    }\n",
              "\n",
              "    .colab-df-convert {\n",
              "      background-color: #E8F0FE;\n",
              "      border: none;\n",
              "      border-radius: 50%;\n",
              "      cursor: pointer;\n",
              "      display: none;\n",
              "      fill: #1967D2;\n",
              "      height: 32px;\n",
              "      padding: 0 0 0 0;\n",
              "      width: 32px;\n",
              "    }\n",
              "\n",
              "    .colab-df-convert:hover {\n",
              "      background-color: #E2EBFA;\n",
              "      box-shadow: 0px 1px 2px rgba(60, 64, 67, 0.3), 0px 1px 3px 1px rgba(60, 64, 67, 0.15);\n",
              "      fill: #174EA6;\n",
              "    }\n",
              "\n",
              "    [theme=dark] .colab-df-convert {\n",
              "      background-color: #3B4455;\n",
              "      fill: #D2E3FC;\n",
              "    }\n",
              "\n",
              "    [theme=dark] .colab-df-convert:hover {\n",
              "      background-color: #434B5C;\n",
              "      box-shadow: 0px 1px 3px 1px rgba(0, 0, 0, 0.15);\n",
              "      filter: drop-shadow(0px 1px 2px rgba(0, 0, 0, 0.3));\n",
              "      fill: #FFFFFF;\n",
              "    }\n",
              "  </style>\n",
              "\n",
              "      <script>\n",
              "        const buttonEl =\n",
              "          document.querySelector('#df-63b5b6f4-175a-473e-8d0d-b82746aacbe2 button.colab-df-convert');\n",
              "        buttonEl.style.display =\n",
              "          google.colab.kernel.accessAllowed ? 'block' : 'none';\n",
              "\n",
              "        async function convertToInteractive(key) {\n",
              "          const element = document.querySelector('#df-63b5b6f4-175a-473e-8d0d-b82746aacbe2');\n",
              "          const dataTable =\n",
              "            await google.colab.kernel.invokeFunction('convertToInteractive',\n",
              "                                                     [key], {});\n",
              "          if (!dataTable) return;\n",
              "\n",
              "          const docLinkHtml = 'Like what you see? Visit the ' +\n",
              "            '<a target=\"_blank\" href=https://colab.research.google.com/notebooks/data_table.ipynb>data table notebook</a>'\n",
              "            + ' to learn more about interactive tables.';\n",
              "          element.innerHTML = '';\n",
              "          dataTable['output_type'] = 'display_data';\n",
              "          await google.colab.output.renderOutput(dataTable, element);\n",
              "          const docLink = document.createElement('div');\n",
              "          docLink.innerHTML = docLinkHtml;\n",
              "          element.appendChild(docLink);\n",
              "        }\n",
              "      </script>\n",
              "    </div>\n",
              "  </div>\n",
              "  "
            ]
          },
          "metadata": {},
          "execution_count": 16
        }
      ]
    },
    {
      "cell_type": "code",
      "source": [
        "X = df[df['Column5']>50].drop(['Column5','Column6','Column7','Column8'],axis=1)\n",
        "Y = df[df['Column5']>50][['Column5','Column6','Column7','Column8']]"
      ],
      "metadata": {
        "id": "DbHAy18LCFwu"
      },
      "execution_count": null,
      "outputs": []
    },
    {
      "cell_type": "markdown",
      "source": [
        "TRAIN TEST SPLIT"
      ],
      "metadata": {
        "id": "nP4jk6IveChL"
      }
    },
    {
      "cell_type": "code",
      "source": [
        "X = df.drop(['Column5','Column6','Column7','Column8'],axis=1)\n",
        "Y = df[['Column5','Column6','Column7','Column8']]"
      ],
      "metadata": {
        "id": "A1AVQ89neFF1"
      },
      "execution_count": null,
      "outputs": []
    },
    {
      "cell_type": "code",
      "source": [
        "from sklearn.model_selection import train_test_split"
      ],
      "metadata": {
        "id": "olDhWezzeeIi"
      },
      "execution_count": null,
      "outputs": []
    },
    {
      "cell_type": "code",
      "source": [
        "X_train, X_rest, y_train, y_rest = train_test_split(X,Y,test_size=0.5)"
      ],
      "metadata": {
        "id": "C_mNcqigeoHn"
      },
      "execution_count": null,
      "outputs": []
    },
    {
      "cell_type": "code",
      "source": [
        "X_val, X_test, y_val, y_test = train_test_split(X_rest,y_rest,test_size=0.5)"
      ],
      "metadata": {
        "id": "iPvquWKCflnE"
      },
      "execution_count": null,
      "outputs": []
    },
    {
      "cell_type": "markdown",
      "source": [
        "SCALING"
      ],
      "metadata": {
        "id": "6zngNu5LdnZW"
      }
    },
    {
      "cell_type": "code",
      "source": [
        "from sklearn.preprocessing import MinMaxScaler"
      ],
      "metadata": {
        "id": "hjBg59iQdAay"
      },
      "execution_count": null,
      "outputs": []
    },
    {
      "cell_type": "code",
      "source": [
        "scaler = MinMaxScaler()"
      ],
      "metadata": {
        "id": "S7UxSeAmdeLN"
      },
      "execution_count": null,
      "outputs": []
    },
    {
      "cell_type": "code",
      "source": [
        "X_train= scaler.fit_transform(X_train)"
      ],
      "metadata": {
        "id": "8xBBa_NGdihj"
      },
      "execution_count": null,
      "outputs": []
    },
    {
      "cell_type": "code",
      "source": [
        "X_test = scaler.transform(X_test)"
      ],
      "metadata": {
        "id": "qqU0u0rueyDg"
      },
      "execution_count": null,
      "outputs": []
    },
    {
      "cell_type": "code",
      "source": [
        "X_val = scaler.transform(X_val)"
      ],
      "metadata": {
        "id": "lh2sSoiigFR1"
      },
      "execution_count": null,
      "outputs": []
    },
    {
      "cell_type": "code",
      "source": [
        "X_train.shape"
      ],
      "metadata": {
        "colab": {
          "base_uri": "https://localhost:8080/"
        },
        "id": "JlxM3FRrqDsb",
        "outputId": "59f93eae-e1ad-4495-a99a-ccdedb20a003"
      },
      "execution_count": null,
      "outputs": [
        {
          "output_type": "execute_result",
          "data": {
            "text/plain": [
              "(5051, 6)"
            ]
          },
          "metadata": {},
          "execution_count": 55
        }
      ]
    },
    {
      "cell_type": "code",
      "source": [
        "X_test.shape"
      ],
      "metadata": {
        "id": "JEsfyfY6UF1c",
        "outputId": "68d19218-18a3-47bf-8a17-dafb455e9fda",
        "colab": {
          "base_uri": "https://localhost:8080/"
        }
      },
      "execution_count": null,
      "outputs": [
        {
          "output_type": "execute_result",
          "data": {
            "text/plain": [
              "(2526, 6)"
            ]
          },
          "metadata": {},
          "execution_count": 56
        }
      ]
    },
    {
      "cell_type": "code",
      "source": [
        "X_train"
      ],
      "metadata": {
        "colab": {
          "base_uri": "https://localhost:8080/"
        },
        "id": "pXF5pfdrIvgB",
        "outputId": "16bdf232-84a3-414a-f27d-22011eff9bfe"
      },
      "execution_count": null,
      "outputs": [
        {
          "output_type": "execute_result",
          "data": {
            "text/plain": [
              "array([[0.29292929, 0.8125    , 0.42857143, 0.        , 0.        ,\n",
              "        0.        ],\n",
              "       [0.29292929, 1.        , 0.57142857, 0.        , 0.        ,\n",
              "        0.        ],\n",
              "       [0.24242424, 0.3125    , 0.        , 0.        , 1.        ,\n",
              "        0.        ],\n",
              "       ...,\n",
              "       [0.7979798 , 0.5625    , 0.14285714, 0.        , 0.        ,\n",
              "        1.        ],\n",
              "       [0.04040404, 1.        , 0.42857143, 1.        , 0.        ,\n",
              "        0.        ],\n",
              "       [0.04040404, 0.875     , 0.42857143, 0.        , 1.        ,\n",
              "        0.        ]])"
            ]
          },
          "metadata": {},
          "execution_count": 57
        }
      ]
    },
    {
      "cell_type": "markdown",
      "source": [
        "Creating a Model"
      ],
      "metadata": {
        "id": "wKMNfe8Ue5eo"
      }
    },
    {
      "cell_type": "code",
      "source": [
        "import time #for measuring computation time"
      ],
      "metadata": {
        "id": "7HYKJ4PaZCu5"
      },
      "execution_count": null,
      "outputs": []
    },
    {
      "cell_type": "code",
      "source": [
        "#define architecture of network\n",
        "model = Sequential()\n",
        "\n",
        "model.add(Dense(6,activation='relu'))\n",
        "model.add(Dense(5,activation='relu'))\n",
        "model.add(Dense(4))\n",
        "\n",
        "model.compile(optimizer='adam',loss='mse')"
      ],
      "metadata": {
        "id": "O9qF3tnLezin"
      },
      "execution_count": null,
      "outputs": []
    },
    {
      "cell_type": "markdown",
      "source": [
        "Training the Model"
      ],
      "metadata": {
        "id": "biT-zPhcfMyC"
      }
    },
    {
      "cell_type": "code",
      "source": [
        "start=time.time()\n",
        "model.fit(x=X_train,y=y_train.values,\n",
        "          validation_data=(X_val,y_val.values),\n",
        "          batch_size=128,epochs=400)\n",
        "end = time.time()"
      ],
      "metadata": {
        "colab": {
          "base_uri": "https://localhost:8080/"
        },
        "id": "zojkeRjfe-gh",
        "outputId": "0cda9702-ec11-4e34-a8d3-2967dcede308"
      },
      "execution_count": null,
      "outputs": [
        {
          "output_type": "stream",
          "name": "stdout",
          "text": [
            "Epoch 1/400\n",
            "40/40 [==============================] - 1s 6ms/step - loss: 74082.3281 - val_loss: 76477.3359\n",
            "Epoch 2/400\n",
            "40/40 [==============================] - 0s 3ms/step - loss: 74004.3203 - val_loss: 76376.7812\n",
            "Epoch 3/400\n",
            "40/40 [==============================] - 0s 5ms/step - loss: 73865.3672 - val_loss: 76175.5625\n",
            "Epoch 4/400\n",
            "40/40 [==============================] - 0s 4ms/step - loss: 73606.3594 - val_loss: 75845.2188\n",
            "Epoch 5/400\n",
            "40/40 [==============================] - 0s 4ms/step - loss: 73193.4609 - val_loss: 75322.2578\n",
            "Epoch 6/400\n",
            "40/40 [==============================] - 0s 4ms/step - loss: 72549.4297 - val_loss: 74512.1484\n",
            "Epoch 7/400\n",
            "40/40 [==============================] - 0s 4ms/step - loss: 71558.9844 - val_loss: 73294.0391\n",
            "Epoch 8/400\n",
            "40/40 [==============================] - 0s 4ms/step - loss: 70142.4453 - val_loss: 71637.5859\n",
            "Epoch 9/400\n",
            "40/40 [==============================] - 0s 4ms/step - loss: 68275.9062 - val_loss: 69520.0703\n",
            "Epoch 10/400\n",
            "40/40 [==============================] - 0s 4ms/step - loss: 65933.1406 - val_loss: 66881.5078\n",
            "Epoch 11/400\n",
            "40/40 [==============================] - 0s 5ms/step - loss: 63066.5586 - val_loss: 63713.8672\n",
            "Epoch 12/400\n",
            "40/40 [==============================] - 0s 4ms/step - loss: 59706.3359 - val_loss: 60124.4609\n",
            "Epoch 13/400\n",
            "40/40 [==============================] - 0s 4ms/step - loss: 55975.7812 - val_loss: 56221.2070\n",
            "Epoch 14/400\n",
            "40/40 [==============================] - 0s 4ms/step - loss: 52025.9453 - val_loss: 52162.9805\n",
            "Epoch 15/400\n",
            "40/40 [==============================] - 0s 4ms/step - loss: 48020.8320 - val_loss: 48166.6875\n",
            "Epoch 16/400\n",
            "40/40 [==============================] - 0s 4ms/step - loss: 44148.3047 - val_loss: 44371.6172\n",
            "Epoch 17/400\n",
            "40/40 [==============================] - 0s 4ms/step - loss: 40542.6797 - val_loss: 40902.2578\n",
            "Epoch 18/400\n",
            "40/40 [==============================] - 0s 4ms/step - loss: 37301.1562 - val_loss: 37836.4062\n",
            "Epoch 19/400\n",
            "40/40 [==============================] - 0s 4ms/step - loss: 34508.3750 - val_loss: 35259.6172\n",
            "Epoch 20/400\n",
            "40/40 [==============================] - 0s 4ms/step - loss: 32187.9160 - val_loss: 33083.3438\n",
            "Epoch 21/400\n",
            "40/40 [==============================] - 0s 4ms/step - loss: 30285.4688 - val_loss: 31314.6133\n",
            "Epoch 22/400\n",
            "40/40 [==============================] - 0s 4ms/step - loss: 28702.3027 - val_loss: 29816.4375\n",
            "Epoch 23/400\n",
            "40/40 [==============================] - 0s 3ms/step - loss: 27347.6426 - val_loss: 28548.9727\n",
            "Epoch 24/400\n",
            "40/40 [==============================] - 0s 4ms/step - loss: 26230.1074 - val_loss: 27447.9688\n",
            "Epoch 25/400\n",
            "40/40 [==============================] - 0s 4ms/step - loss: 25279.3496 - val_loss: 26536.7031\n",
            "Epoch 26/400\n",
            "40/40 [==============================] - 0s 7ms/step - loss: 24478.4980 - val_loss: 25751.1152\n",
            "Epoch 27/400\n",
            "40/40 [==============================] - 0s 4ms/step - loss: 23780.7500 - val_loss: 25041.3516\n",
            "Epoch 28/400\n",
            "40/40 [==============================] - 0s 4ms/step - loss: 23151.8711 - val_loss: 24413.8438\n",
            "Epoch 29/400\n",
            "40/40 [==============================] - 0s 4ms/step - loss: 22587.2324 - val_loss: 23835.5254\n",
            "Epoch 30/400\n",
            "40/40 [==============================] - 0s 3ms/step - loss: 22070.9258 - val_loss: 23295.6465\n",
            "Epoch 31/400\n",
            "40/40 [==============================] - 0s 4ms/step - loss: 21585.4629 - val_loss: 22798.5293\n",
            "Epoch 32/400\n",
            "40/40 [==============================] - 0s 5ms/step - loss: 21131.2090 - val_loss: 22327.3965\n",
            "Epoch 33/400\n",
            "40/40 [==============================] - 0s 4ms/step - loss: 20701.2695 - val_loss: 21880.5781\n",
            "Epoch 34/400\n",
            "40/40 [==============================] - 0s 4ms/step - loss: 20292.6895 - val_loss: 21449.3066\n",
            "Epoch 35/400\n",
            "40/40 [==============================] - 0s 4ms/step - loss: 19898.1621 - val_loss: 21028.5469\n",
            "Epoch 36/400\n",
            "40/40 [==============================] - 0s 3ms/step - loss: 19517.1641 - val_loss: 20633.6738\n",
            "Epoch 37/400\n",
            "40/40 [==============================] - 0s 5ms/step - loss: 19152.1641 - val_loss: 20249.7246\n",
            "Epoch 38/400\n",
            "40/40 [==============================] - 0s 4ms/step - loss: 18797.2812 - val_loss: 19872.2812\n",
            "Epoch 39/400\n",
            "40/40 [==============================] - 0s 4ms/step - loss: 18453.9609 - val_loss: 19507.6016\n",
            "Epoch 40/400\n",
            "40/40 [==============================] - 0s 4ms/step - loss: 18119.1738 - val_loss: 19154.3418\n",
            "Epoch 41/400\n",
            "40/40 [==============================] - 0s 3ms/step - loss: 17792.3711 - val_loss: 18809.1348\n",
            "Epoch 42/400\n",
            "40/40 [==============================] - 0s 3ms/step - loss: 17472.4980 - val_loss: 18468.6367\n",
            "Epoch 43/400\n",
            "40/40 [==============================] - 0s 5ms/step - loss: 17165.3145 - val_loss: 18132.7266\n",
            "Epoch 44/400\n",
            "40/40 [==============================] - 0s 4ms/step - loss: 16857.7422 - val_loss: 17815.9512\n",
            "Epoch 45/400\n",
            "40/40 [==============================] - 0s 4ms/step - loss: 16559.1992 - val_loss: 17491.5957\n",
            "Epoch 46/400\n",
            "40/40 [==============================] - 0s 4ms/step - loss: 16268.4463 - val_loss: 17181.1328\n",
            "Epoch 47/400\n",
            "40/40 [==============================] - 0s 3ms/step - loss: 15981.8477 - val_loss: 16878.3086\n",
            "Epoch 48/400\n",
            "40/40 [==============================] - 0s 4ms/step - loss: 15697.2451 - val_loss: 16577.0605\n",
            "Epoch 49/400\n",
            "40/40 [==============================] - 0s 4ms/step - loss: 15419.8428 - val_loss: 16286.4434\n",
            "Epoch 50/400\n",
            "40/40 [==============================] - 0s 4ms/step - loss: 15147.3779 - val_loss: 15993.9336\n",
            "Epoch 51/400\n",
            "40/40 [==============================] - 0s 4ms/step - loss: 14874.5771 - val_loss: 15698.8535\n",
            "Epoch 52/400\n",
            "40/40 [==============================] - 0s 4ms/step - loss: 14608.2754 - val_loss: 15423.4902\n",
            "Epoch 53/400\n",
            "40/40 [==============================] - 0s 4ms/step - loss: 14342.0566 - val_loss: 15141.4062\n",
            "Epoch 54/400\n",
            "40/40 [==============================] - 0s 4ms/step - loss: 14085.0068 - val_loss: 14865.4424\n",
            "Epoch 55/400\n",
            "40/40 [==============================] - 0s 4ms/step - loss: 13823.4902 - val_loss: 14591.8682\n",
            "Epoch 56/400\n",
            "40/40 [==============================] - 0s 4ms/step - loss: 13567.8516 - val_loss: 14317.2617\n",
            "Epoch 57/400\n",
            "40/40 [==============================] - 0s 4ms/step - loss: 13315.6426 - val_loss: 14055.0674\n",
            "Epoch 58/400\n",
            "40/40 [==============================] - 0s 3ms/step - loss: 13066.2471 - val_loss: 13795.9141\n",
            "Epoch 59/400\n",
            "40/40 [==============================] - 0s 4ms/step - loss: 12822.4189 - val_loss: 13527.0264\n",
            "Epoch 60/400\n",
            "40/40 [==============================] - 0s 3ms/step - loss: 12577.7549 - val_loss: 13277.5586\n",
            "Epoch 61/400\n",
            "40/40 [==============================] - 0s 3ms/step - loss: 12337.2549 - val_loss: 13027.5918\n",
            "Epoch 62/400\n",
            "40/40 [==============================] - 0s 4ms/step - loss: 12100.9287 - val_loss: 12780.1084\n",
            "Epoch 63/400\n",
            "40/40 [==============================] - 0s 4ms/step - loss: 11875.5605 - val_loss: 12534.8174\n",
            "Epoch 64/400\n",
            "40/40 [==============================] - 0s 4ms/step - loss: 11642.1113 - val_loss: 12304.0078\n",
            "Epoch 65/400\n",
            "40/40 [==============================] - 0s 4ms/step - loss: 11420.8232 - val_loss: 12071.6260\n",
            "Epoch 66/400\n",
            "40/40 [==============================] - 0s 4ms/step - loss: 11201.5820 - val_loss: 11849.6357\n",
            "Epoch 67/400\n",
            "40/40 [==============================] - 0s 4ms/step - loss: 10989.5283 - val_loss: 11629.9893\n",
            "Epoch 68/400\n",
            "40/40 [==============================] - 0s 4ms/step - loss: 10784.6396 - val_loss: 11410.0938\n",
            "Epoch 69/400\n",
            "40/40 [==============================] - 0s 4ms/step - loss: 10585.3633 - val_loss: 11212.7412\n",
            "Epoch 70/400\n",
            "40/40 [==============================] - 0s 5ms/step - loss: 10391.2402 - val_loss: 11000.6006\n",
            "Epoch 71/400\n",
            "40/40 [==============================] - 0s 4ms/step - loss: 10201.9346 - val_loss: 10805.6963\n",
            "Epoch 72/400\n",
            "40/40 [==============================] - 0s 4ms/step - loss: 10017.8262 - val_loss: 10624.6182\n",
            "Epoch 73/400\n",
            "40/40 [==============================] - 0s 3ms/step - loss: 9846.8760 - val_loss: 10448.2314\n",
            "Epoch 74/400\n",
            "40/40 [==============================] - 0s 4ms/step - loss: 9682.2021 - val_loss: 10284.0322\n",
            "Epoch 75/400\n",
            "40/40 [==============================] - 0s 4ms/step - loss: 9523.1670 - val_loss: 10122.1826\n",
            "Epoch 76/400\n",
            "40/40 [==============================] - 0s 4ms/step - loss: 9374.2070 - val_loss: 9968.1348\n",
            "Epoch 77/400\n",
            "40/40 [==============================] - 0s 4ms/step - loss: 9232.6279 - val_loss: 9821.2715\n",
            "Epoch 78/400\n",
            "40/40 [==============================] - 0s 4ms/step - loss: 9096.4502 - val_loss: 9695.3135\n",
            "Epoch 79/400\n",
            "40/40 [==============================] - 0s 4ms/step - loss: 8967.5928 - val_loss: 9553.7285\n",
            "Epoch 80/400\n",
            "40/40 [==============================] - 0s 4ms/step - loss: 8849.6191 - val_loss: 9432.8809\n",
            "Epoch 81/400\n",
            "40/40 [==============================] - 0s 4ms/step - loss: 8735.9941 - val_loss: 9314.3965\n",
            "Epoch 82/400\n",
            "40/40 [==============================] - 0s 4ms/step - loss: 8630.0625 - val_loss: 9213.9922\n",
            "Epoch 83/400\n",
            "40/40 [==============================] - 0s 3ms/step - loss: 8529.6230 - val_loss: 9113.2441\n",
            "Epoch 84/400\n",
            "40/40 [==============================] - 0s 4ms/step - loss: 8434.7793 - val_loss: 9013.1992\n",
            "Epoch 85/400\n",
            "40/40 [==============================] - 0s 4ms/step - loss: 8347.6387 - val_loss: 8923.6553\n",
            "Epoch 86/400\n",
            "40/40 [==============================] - 0s 4ms/step - loss: 8269.6768 - val_loss: 8845.8994\n",
            "Epoch 87/400\n",
            "40/40 [==============================] - 0s 3ms/step - loss: 8194.0049 - val_loss: 8762.1992\n",
            "Epoch 88/400\n",
            "40/40 [==============================] - 0s 4ms/step - loss: 8124.4878 - val_loss: 8692.6650\n",
            "Epoch 89/400\n",
            "40/40 [==============================] - 0s 4ms/step - loss: 8062.8691 - val_loss: 8625.1357\n",
            "Epoch 90/400\n",
            "40/40 [==============================] - 0s 4ms/step - loss: 8000.9204 - val_loss: 8566.3848\n",
            "Epoch 91/400\n",
            "40/40 [==============================] - 0s 4ms/step - loss: 7946.5532 - val_loss: 8506.3506\n",
            "Epoch 92/400\n",
            "40/40 [==============================] - 0s 4ms/step - loss: 7895.4971 - val_loss: 8450.3574\n",
            "Epoch 93/400\n",
            "40/40 [==============================] - 0s 4ms/step - loss: 7847.3071 - val_loss: 8397.5508\n",
            "Epoch 94/400\n",
            "40/40 [==============================] - 0s 4ms/step - loss: 7802.7671 - val_loss: 8347.5391\n",
            "Epoch 95/400\n",
            "40/40 [==============================] - 0s 4ms/step - loss: 7761.6782 - val_loss: 8308.0059\n",
            "Epoch 96/400\n",
            "40/40 [==============================] - 0s 4ms/step - loss: 7722.5840 - val_loss: 8260.6172\n",
            "Epoch 97/400\n",
            "40/40 [==============================] - 0s 5ms/step - loss: 7686.3257 - val_loss: 8223.4189\n",
            "Epoch 98/400\n",
            "40/40 [==============================] - 0s 4ms/step - loss: 7652.6470 - val_loss: 8188.3989\n",
            "Epoch 99/400\n",
            "40/40 [==============================] - 0s 4ms/step - loss: 7619.6445 - val_loss: 8148.6958\n",
            "Epoch 100/400\n",
            "40/40 [==============================] - 0s 5ms/step - loss: 7588.8340 - val_loss: 8120.1372\n",
            "Epoch 101/400\n",
            "40/40 [==============================] - 0s 4ms/step - loss: 7565.4609 - val_loss: 8087.1201\n",
            "Epoch 102/400\n",
            "40/40 [==============================] - 0s 4ms/step - loss: 7537.9180 - val_loss: 8053.7183\n",
            "Epoch 103/400\n",
            "40/40 [==============================] - 0s 4ms/step - loss: 7515.7222 - val_loss: 8029.6016\n",
            "Epoch 104/400\n",
            "40/40 [==============================] - 0s 4ms/step - loss: 7488.8052 - val_loss: 7997.0513\n",
            "Epoch 105/400\n",
            "40/40 [==============================] - 0s 4ms/step - loss: 7466.4263 - val_loss: 7974.6040\n",
            "Epoch 106/400\n",
            "40/40 [==============================] - 0s 4ms/step - loss: 7444.7026 - val_loss: 7942.6997\n",
            "Epoch 107/400\n",
            "40/40 [==============================] - 0s 4ms/step - loss: 7421.0312 - val_loss: 7920.6978\n",
            "Epoch 108/400\n",
            "40/40 [==============================] - 0s 4ms/step - loss: 7399.7734 - val_loss: 7896.3755\n",
            "Epoch 109/400\n",
            "40/40 [==============================] - 0s 4ms/step - loss: 7381.7153 - val_loss: 7873.6865\n",
            "Epoch 110/400\n",
            "40/40 [==============================] - 0s 4ms/step - loss: 7361.3423 - val_loss: 7854.0674\n",
            "Epoch 111/400\n",
            "40/40 [==============================] - 0s 4ms/step - loss: 7341.7183 - val_loss: 7827.7046\n",
            "Epoch 112/400\n",
            "40/40 [==============================] - 0s 4ms/step - loss: 7322.6577 - val_loss: 7807.6494\n",
            "Epoch 113/400\n",
            "40/40 [==============================] - 0s 4ms/step - loss: 7308.3652 - val_loss: 7788.4546\n",
            "Epoch 114/400\n",
            "40/40 [==============================] - 0s 3ms/step - loss: 7290.4067 - val_loss: 7767.4702\n",
            "Epoch 115/400\n",
            "40/40 [==============================] - 0s 5ms/step - loss: 7273.6338 - val_loss: 7747.8496\n",
            "Epoch 116/400\n",
            "40/40 [==============================] - 0s 5ms/step - loss: 7258.9790 - val_loss: 7725.5684\n",
            "Epoch 117/400\n",
            "40/40 [==============================] - 0s 4ms/step - loss: 7240.1284 - val_loss: 7710.6685\n",
            "Epoch 118/400\n",
            "40/40 [==============================] - 0s 4ms/step - loss: 7225.1553 - val_loss: 7691.9722\n",
            "Epoch 119/400\n",
            "40/40 [==============================] - 0s 4ms/step - loss: 7209.4136 - val_loss: 7670.9697\n",
            "Epoch 120/400\n",
            "40/40 [==============================] - 0s 4ms/step - loss: 7191.3135 - val_loss: 7649.6562\n",
            "Epoch 121/400\n",
            "40/40 [==============================] - 0s 4ms/step - loss: 7173.9028 - val_loss: 7629.0078\n",
            "Epoch 122/400\n",
            "40/40 [==============================] - 0s 4ms/step - loss: 7155.5195 - val_loss: 7612.7285\n",
            "Epoch 123/400\n",
            "40/40 [==============================] - 0s 4ms/step - loss: 7138.8643 - val_loss: 7587.1694\n",
            "Epoch 124/400\n",
            "40/40 [==============================] - 0s 4ms/step - loss: 7122.5088 - val_loss: 7565.3799\n",
            "Epoch 125/400\n",
            "40/40 [==============================] - 0s 4ms/step - loss: 7104.8110 - val_loss: 7549.2715\n",
            "Epoch 126/400\n",
            "40/40 [==============================] - 0s 4ms/step - loss: 7082.1265 - val_loss: 7524.5410\n",
            "Epoch 127/400\n",
            "40/40 [==============================] - 0s 4ms/step - loss: 7060.1479 - val_loss: 7501.5034\n",
            "Epoch 128/400\n",
            "40/40 [==============================] - 0s 5ms/step - loss: 7036.9106 - val_loss: 7477.7207\n",
            "Epoch 129/400\n",
            "40/40 [==============================] - 0s 6ms/step - loss: 7017.2466 - val_loss: 7453.6016\n",
            "Epoch 130/400\n",
            "40/40 [==============================] - 0s 6ms/step - loss: 6995.4043 - val_loss: 7430.7603\n",
            "Epoch 131/400\n",
            "40/40 [==============================] - 0s 6ms/step - loss: 6971.4038 - val_loss: 7403.1973\n",
            "Epoch 132/400\n",
            "40/40 [==============================] - 0s 6ms/step - loss: 6946.5176 - val_loss: 7378.6958\n",
            "Epoch 133/400\n",
            "40/40 [==============================] - 0s 6ms/step - loss: 6921.1143 - val_loss: 7348.8691\n",
            "Epoch 134/400\n",
            "40/40 [==============================] - 0s 5ms/step - loss: 6896.2588 - val_loss: 7321.1172\n",
            "Epoch 135/400\n",
            "40/40 [==============================] - 0s 6ms/step - loss: 6871.3848 - val_loss: 7291.5532\n",
            "Epoch 136/400\n",
            "40/40 [==============================] - 0s 6ms/step - loss: 6840.4497 - val_loss: 7265.6206\n",
            "Epoch 137/400\n",
            "40/40 [==============================] - 0s 6ms/step - loss: 6813.5317 - val_loss: 7228.8525\n",
            "Epoch 138/400\n",
            "40/40 [==============================] - 0s 6ms/step - loss: 6785.4873 - val_loss: 7197.3169\n",
            "Epoch 139/400\n",
            "40/40 [==============================] - 0s 6ms/step - loss: 6753.6494 - val_loss: 7169.1719\n",
            "Epoch 140/400\n",
            "40/40 [==============================] - 0s 5ms/step - loss: 6727.7720 - val_loss: 7135.6406\n",
            "Epoch 141/400\n",
            "40/40 [==============================] - 0s 6ms/step - loss: 6693.3145 - val_loss: 7107.2368\n",
            "Epoch 142/400\n",
            "40/40 [==============================] - 0s 6ms/step - loss: 6665.7549 - val_loss: 7071.9360\n",
            "Epoch 143/400\n",
            "40/40 [==============================] - 0s 4ms/step - loss: 6632.2114 - val_loss: 7043.7349\n",
            "Epoch 144/400\n",
            "40/40 [==============================] - 0s 4ms/step - loss: 6614.3403 - val_loss: 7008.7744\n",
            "Epoch 145/400\n",
            "40/40 [==============================] - 0s 5ms/step - loss: 6571.8882 - val_loss: 6982.6245\n",
            "Epoch 146/400\n",
            "40/40 [==============================] - 0s 5ms/step - loss: 6543.7583 - val_loss: 6955.5156\n",
            "Epoch 147/400\n",
            "40/40 [==============================] - 0s 4ms/step - loss: 6509.7505 - val_loss: 6920.6934\n",
            "Epoch 148/400\n",
            "40/40 [==============================] - 0s 4ms/step - loss: 6478.1909 - val_loss: 6891.0625\n",
            "Epoch 149/400\n",
            "40/40 [==============================] - 0s 4ms/step - loss: 6450.5957 - val_loss: 6866.1006\n",
            "Epoch 150/400\n",
            "40/40 [==============================] - 0s 5ms/step - loss: 6418.7568 - val_loss: 6832.6870\n",
            "Epoch 151/400\n",
            "40/40 [==============================] - 0s 5ms/step - loss: 6391.3359 - val_loss: 6799.2407\n",
            "Epoch 152/400\n",
            "40/40 [==============================] - 0s 4ms/step - loss: 6359.4355 - val_loss: 6769.2549\n",
            "Epoch 153/400\n",
            "40/40 [==============================] - 0s 4ms/step - loss: 6332.9805 - val_loss: 6739.9121\n",
            "Epoch 154/400\n",
            "40/40 [==============================] - 0s 4ms/step - loss: 6303.2617 - val_loss: 6715.1895\n",
            "Epoch 155/400\n",
            "40/40 [==============================] - 0s 4ms/step - loss: 6275.6113 - val_loss: 6683.9277\n",
            "Epoch 156/400\n",
            "40/40 [==============================] - 0s 4ms/step - loss: 6249.1807 - val_loss: 6659.2471\n",
            "Epoch 157/400\n",
            "40/40 [==============================] - 0s 4ms/step - loss: 6225.4087 - val_loss: 6634.1128\n",
            "Epoch 158/400\n",
            "40/40 [==============================] - 0s 4ms/step - loss: 6202.5171 - val_loss: 6602.6577\n",
            "Epoch 159/400\n",
            "40/40 [==============================] - 0s 4ms/step - loss: 6173.6919 - val_loss: 6577.9028\n",
            "Epoch 160/400\n",
            "40/40 [==============================] - 0s 5ms/step - loss: 6146.5933 - val_loss: 6548.1392\n",
            "Epoch 161/400\n",
            "40/40 [==============================] - 0s 4ms/step - loss: 6121.4214 - val_loss: 6525.9844\n",
            "Epoch 162/400\n",
            "40/40 [==============================] - 0s 4ms/step - loss: 6101.5928 - val_loss: 6494.8735\n",
            "Epoch 163/400\n",
            "40/40 [==============================] - 0s 4ms/step - loss: 6074.4365 - val_loss: 6474.0596\n",
            "Epoch 164/400\n",
            "40/40 [==============================] - 0s 4ms/step - loss: 6051.2080 - val_loss: 6445.6494\n",
            "Epoch 165/400\n",
            "40/40 [==============================] - 0s 4ms/step - loss: 6030.9980 - val_loss: 6420.9165\n",
            "Epoch 166/400\n",
            "40/40 [==============================] - 0s 3ms/step - loss: 6010.9307 - val_loss: 6395.2354\n",
            "Epoch 167/400\n",
            "40/40 [==============================] - 0s 4ms/step - loss: 5985.4336 - val_loss: 6376.1748\n",
            "Epoch 168/400\n",
            "40/40 [==============================] - 0s 4ms/step - loss: 5963.9116 - val_loss: 6353.8545\n",
            "Epoch 169/400\n",
            "40/40 [==============================] - 0s 3ms/step - loss: 5942.7158 - val_loss: 6324.8540\n",
            "Epoch 170/400\n",
            "40/40 [==============================] - 0s 4ms/step - loss: 5919.0845 - val_loss: 6308.3569\n",
            "Epoch 171/400\n",
            "40/40 [==============================] - 0s 4ms/step - loss: 5897.9028 - val_loss: 6281.9590\n",
            "Epoch 172/400\n",
            "40/40 [==============================] - 0s 4ms/step - loss: 5874.1538 - val_loss: 6259.0845\n",
            "Epoch 173/400\n",
            "40/40 [==============================] - 0s 4ms/step - loss: 5853.3018 - val_loss: 6237.2266\n",
            "Epoch 174/400\n",
            "40/40 [==============================] - 0s 3ms/step - loss: 5830.8232 - val_loss: 6212.3682\n",
            "Epoch 175/400\n",
            "40/40 [==============================] - 0s 4ms/step - loss: 5817.0210 - val_loss: 6191.0415\n",
            "Epoch 176/400\n",
            "40/40 [==============================] - 0s 4ms/step - loss: 5806.7070 - val_loss: 6171.0293\n",
            "Epoch 177/400\n",
            "40/40 [==============================] - 0s 4ms/step - loss: 5767.8457 - val_loss: 6146.3354\n",
            "Epoch 178/400\n",
            "40/40 [==============================] - 0s 4ms/step - loss: 5747.4443 - val_loss: 6121.3608\n",
            "Epoch 179/400\n",
            "40/40 [==============================] - 0s 5ms/step - loss: 5726.0068 - val_loss: 6106.4707\n",
            "Epoch 180/400\n",
            "40/40 [==============================] - 0s 4ms/step - loss: 5708.0366 - val_loss: 6083.1133\n",
            "Epoch 181/400\n",
            "40/40 [==============================] - 0s 4ms/step - loss: 5688.1768 - val_loss: 6059.7935\n",
            "Epoch 182/400\n",
            "40/40 [==============================] - 0s 4ms/step - loss: 5667.8354 - val_loss: 6037.6768\n",
            "Epoch 183/400\n",
            "40/40 [==============================] - 0s 4ms/step - loss: 5649.0273 - val_loss: 6021.2910\n",
            "Epoch 184/400\n",
            "40/40 [==============================] - 0s 4ms/step - loss: 5630.9922 - val_loss: 5998.0552\n",
            "Epoch 185/400\n",
            "40/40 [==============================] - 0s 4ms/step - loss: 5615.6890 - val_loss: 5979.8384\n",
            "Epoch 186/400\n",
            "40/40 [==============================] - 0s 5ms/step - loss: 5597.3105 - val_loss: 5958.3149\n",
            "Epoch 187/400\n",
            "40/40 [==============================] - 0s 5ms/step - loss: 5572.2251 - val_loss: 5939.0864\n",
            "Epoch 188/400\n",
            "40/40 [==============================] - 0s 3ms/step - loss: 5555.7158 - val_loss: 5917.8501\n",
            "Epoch 189/400\n",
            "40/40 [==============================] - 0s 4ms/step - loss: 5539.6431 - val_loss: 5901.3545\n",
            "Epoch 190/400\n",
            "40/40 [==============================] - 0s 4ms/step - loss: 5523.4609 - val_loss: 5883.3901\n",
            "Epoch 191/400\n",
            "40/40 [==============================] - 0s 4ms/step - loss: 5500.6606 - val_loss: 5862.6001\n",
            "Epoch 192/400\n",
            "40/40 [==============================] - 0s 4ms/step - loss: 5482.3301 - val_loss: 5850.2915\n",
            "Epoch 193/400\n",
            "40/40 [==============================] - 0s 4ms/step - loss: 5467.6606 - val_loss: 5824.3647\n",
            "Epoch 194/400\n",
            "40/40 [==============================] - 0s 4ms/step - loss: 5445.0879 - val_loss: 5808.2993\n",
            "Epoch 195/400\n",
            "40/40 [==============================] - 0s 4ms/step - loss: 5431.5518 - val_loss: 5788.0479\n",
            "Epoch 196/400\n",
            "40/40 [==============================] - 0s 4ms/step - loss: 5407.6040 - val_loss: 5773.6387\n",
            "Epoch 197/400\n",
            "40/40 [==============================] - 0s 5ms/step - loss: 5390.3071 - val_loss: 5752.0093\n",
            "Epoch 198/400\n",
            "40/40 [==============================] - 0s 4ms/step - loss: 5374.0156 - val_loss: 5734.8198\n",
            "Epoch 199/400\n",
            "40/40 [==============================] - 0s 4ms/step - loss: 5358.3760 - val_loss: 5718.2017\n",
            "Epoch 200/400\n",
            "40/40 [==============================] - 0s 4ms/step - loss: 5337.9854 - val_loss: 5699.5356\n",
            "Epoch 201/400\n",
            "40/40 [==============================] - 0s 4ms/step - loss: 5321.6797 - val_loss: 5681.9883\n",
            "Epoch 202/400\n",
            "40/40 [==============================] - 0s 4ms/step - loss: 5304.9077 - val_loss: 5665.4717\n",
            "Epoch 203/400\n",
            "40/40 [==============================] - 0s 5ms/step - loss: 5288.8345 - val_loss: 5654.0005\n",
            "Epoch 204/400\n",
            "40/40 [==============================] - 0s 4ms/step - loss: 5273.1729 - val_loss: 5634.7300\n",
            "Epoch 205/400\n",
            "40/40 [==============================] - 0s 4ms/step - loss: 5257.1675 - val_loss: 5620.0674\n",
            "Epoch 206/400\n",
            "40/40 [==============================] - 0s 4ms/step - loss: 5238.8496 - val_loss: 5601.9487\n",
            "Epoch 207/400\n",
            "40/40 [==============================] - 0s 4ms/step - loss: 5222.6665 - val_loss: 5585.1455\n",
            "Epoch 208/400\n",
            "40/40 [==============================] - 0s 4ms/step - loss: 5208.5728 - val_loss: 5571.8203\n",
            "Epoch 209/400\n",
            "40/40 [==============================] - 0s 4ms/step - loss: 5192.3384 - val_loss: 5552.3682\n",
            "Epoch 210/400\n",
            "40/40 [==============================] - 0s 4ms/step - loss: 5178.6733 - val_loss: 5540.6460\n",
            "Epoch 211/400\n",
            "40/40 [==============================] - 0s 5ms/step - loss: 5165.6753 - val_loss: 5522.5708\n",
            "Epoch 212/400\n",
            "40/40 [==============================] - 0s 4ms/step - loss: 5148.6646 - val_loss: 5507.8735\n",
            "Epoch 213/400\n",
            "40/40 [==============================] - 0s 4ms/step - loss: 5132.5742 - val_loss: 5491.2246\n",
            "Epoch 214/400\n",
            "40/40 [==============================] - 0s 4ms/step - loss: 5123.8223 - val_loss: 5475.9312\n",
            "Epoch 215/400\n",
            "40/40 [==============================] - 0s 5ms/step - loss: 5104.3706 - val_loss: 5461.7598\n",
            "Epoch 216/400\n",
            "40/40 [==============================] - 0s 4ms/step - loss: 5095.3286 - val_loss: 5448.5674\n",
            "Epoch 217/400\n",
            "40/40 [==============================] - 0s 4ms/step - loss: 5078.2358 - val_loss: 5431.4526\n",
            "Epoch 218/400\n",
            "40/40 [==============================] - 0s 4ms/step - loss: 5062.5962 - val_loss: 5416.4365\n",
            "Epoch 219/400\n",
            "40/40 [==============================] - 0s 4ms/step - loss: 5048.6484 - val_loss: 5401.9668\n",
            "Epoch 220/400\n",
            "40/40 [==============================] - 0s 5ms/step - loss: 5037.1851 - val_loss: 5388.9229\n",
            "Epoch 221/400\n",
            "40/40 [==============================] - 0s 5ms/step - loss: 5020.8350 - val_loss: 5372.4058\n",
            "Epoch 222/400\n",
            "40/40 [==============================] - 0s 4ms/step - loss: 5010.3740 - val_loss: 5358.9883\n",
            "Epoch 223/400\n",
            "40/40 [==============================] - 0s 5ms/step - loss: 4997.2373 - val_loss: 5347.1348\n",
            "Epoch 224/400\n",
            "40/40 [==============================] - 0s 4ms/step - loss: 4986.2524 - val_loss: 5335.1479\n",
            "Epoch 225/400\n",
            "40/40 [==============================] - 0s 4ms/step - loss: 4969.8604 - val_loss: 5315.5723\n",
            "Epoch 226/400\n",
            "40/40 [==============================] - 0s 4ms/step - loss: 4959.9814 - val_loss: 5300.1626\n",
            "Epoch 227/400\n",
            "40/40 [==============================] - 0s 4ms/step - loss: 4941.2910 - val_loss: 5289.8901\n",
            "Epoch 228/400\n",
            "40/40 [==============================] - 0s 4ms/step - loss: 4928.5410 - val_loss: 5274.3208\n",
            "Epoch 229/400\n",
            "40/40 [==============================] - 0s 4ms/step - loss: 4924.2188 - val_loss: 5270.3677\n",
            "Epoch 230/400\n",
            "40/40 [==============================] - 0s 4ms/step - loss: 4903.7666 - val_loss: 5246.9800\n",
            "Epoch 231/400\n",
            "40/40 [==============================] - 0s 4ms/step - loss: 4893.2349 - val_loss: 5237.3657\n",
            "Epoch 232/400\n",
            "40/40 [==============================] - 0s 4ms/step - loss: 4883.0063 - val_loss: 5219.2056\n",
            "Epoch 233/400\n",
            "40/40 [==============================] - 0s 4ms/step - loss: 4865.5259 - val_loss: 5208.6646\n",
            "Epoch 234/400\n",
            "40/40 [==============================] - 0s 4ms/step - loss: 4855.0806 - val_loss: 5193.3560\n",
            "Epoch 235/400\n",
            "40/40 [==============================] - 0s 4ms/step - loss: 4842.5493 - val_loss: 5183.5796\n",
            "Epoch 236/400\n",
            "40/40 [==============================] - 0s 5ms/step - loss: 4829.4419 - val_loss: 5166.9058\n",
            "Epoch 237/400\n",
            "40/40 [==============================] - 0s 4ms/step - loss: 4816.1455 - val_loss: 5154.6870\n",
            "Epoch 238/400\n",
            "40/40 [==============================] - 0s 4ms/step - loss: 4802.6567 - val_loss: 5141.8467\n",
            "Epoch 239/400\n",
            "40/40 [==============================] - 0s 5ms/step - loss: 4790.4180 - val_loss: 5128.2378\n",
            "Epoch 240/400\n",
            "40/40 [==============================] - 0s 4ms/step - loss: 4778.7075 - val_loss: 5115.2334\n",
            "Epoch 241/400\n",
            "40/40 [==============================] - 0s 3ms/step - loss: 4767.8750 - val_loss: 5102.9131\n",
            "Epoch 242/400\n",
            "40/40 [==============================] - 0s 4ms/step - loss: 4756.3413 - val_loss: 5089.6958\n",
            "Epoch 243/400\n",
            "40/40 [==============================] - 0s 4ms/step - loss: 4743.6348 - val_loss: 5078.0659\n",
            "Epoch 244/400\n",
            "40/40 [==============================] - 0s 5ms/step - loss: 4735.8120 - val_loss: 5068.4341\n",
            "Epoch 245/400\n",
            "40/40 [==============================] - 0s 4ms/step - loss: 4719.0796 - val_loss: 5052.2256\n",
            "Epoch 246/400\n",
            "40/40 [==============================] - 0s 4ms/step - loss: 4707.5278 - val_loss: 5040.4619\n",
            "Epoch 247/400\n",
            "40/40 [==============================] - 0s 4ms/step - loss: 4692.9185 - val_loss: 5026.2183\n",
            "Epoch 248/400\n",
            "40/40 [==============================] - 0s 4ms/step - loss: 4682.0557 - val_loss: 5016.5190\n",
            "Epoch 249/400\n",
            "40/40 [==============================] - 0s 4ms/step - loss: 4672.0508 - val_loss: 5001.4980\n",
            "Epoch 250/400\n",
            "40/40 [==============================] - 0s 4ms/step - loss: 4659.3110 - val_loss: 4989.8872\n",
            "Epoch 251/400\n",
            "40/40 [==============================] - 0s 4ms/step - loss: 4646.4014 - val_loss: 4975.7861\n",
            "Epoch 252/400\n",
            "40/40 [==============================] - 0s 4ms/step - loss: 4639.2798 - val_loss: 4964.5200\n",
            "Epoch 253/400\n",
            "40/40 [==============================] - 0s 4ms/step - loss: 4633.9746 - val_loss: 4951.0884\n",
            "Epoch 254/400\n",
            "40/40 [==============================] - 0s 4ms/step - loss: 4611.5518 - val_loss: 4940.1704\n",
            "Epoch 255/400\n",
            "40/40 [==============================] - 0s 4ms/step - loss: 4600.4951 - val_loss: 4925.2417\n",
            "Epoch 256/400\n",
            "40/40 [==============================] - 0s 5ms/step - loss: 4587.3228 - val_loss: 4915.6392\n",
            "Epoch 257/400\n",
            "40/40 [==============================] - 0s 4ms/step - loss: 4577.5298 - val_loss: 4901.1558\n",
            "Epoch 258/400\n",
            "40/40 [==============================] - 0s 4ms/step - loss: 4568.1211 - val_loss: 4888.2456\n",
            "Epoch 259/400\n",
            "40/40 [==============================] - 0s 4ms/step - loss: 4553.4409 - val_loss: 4876.8501\n",
            "Epoch 260/400\n",
            "40/40 [==============================] - 0s 4ms/step - loss: 4537.8643 - val_loss: 4863.1211\n",
            "Epoch 261/400\n",
            "40/40 [==============================] - 0s 4ms/step - loss: 4528.0000 - val_loss: 4850.0815\n",
            "Epoch 262/400\n",
            "40/40 [==============================] - 0s 4ms/step - loss: 4520.8892 - val_loss: 4838.6602\n",
            "Epoch 263/400\n",
            "40/40 [==============================] - 0s 4ms/step - loss: 4504.0361 - val_loss: 4824.7729\n",
            "Epoch 264/400\n",
            "40/40 [==============================] - 0s 5ms/step - loss: 4498.0444 - val_loss: 4811.6362\n",
            "Epoch 265/400\n",
            "40/40 [==============================] - 0s 5ms/step - loss: 4480.7139 - val_loss: 4799.3784\n",
            "Epoch 266/400\n",
            "40/40 [==============================] - 0s 4ms/step - loss: 4468.8721 - val_loss: 4787.0977\n",
            "Epoch 267/400\n",
            "40/40 [==============================] - 0s 5ms/step - loss: 4456.3042 - val_loss: 4774.5869\n",
            "Epoch 268/400\n",
            "40/40 [==============================] - 0s 4ms/step - loss: 4445.2334 - val_loss: 4761.4829\n",
            "Epoch 269/400\n",
            "40/40 [==============================] - 0s 4ms/step - loss: 4433.6597 - val_loss: 4748.6880\n",
            "Epoch 270/400\n",
            "40/40 [==============================] - 0s 4ms/step - loss: 4419.6499 - val_loss: 4735.1045\n",
            "Epoch 271/400\n",
            "40/40 [==============================] - 0s 4ms/step - loss: 4408.9536 - val_loss: 4722.0059\n",
            "Epoch 272/400\n",
            "40/40 [==============================] - 0s 4ms/step - loss: 4400.3906 - val_loss: 4709.7188\n",
            "Epoch 273/400\n",
            "40/40 [==============================] - 0s 4ms/step - loss: 4386.9043 - val_loss: 4696.7354\n",
            "Epoch 274/400\n",
            "40/40 [==============================] - 0s 4ms/step - loss: 4375.5215 - val_loss: 4684.3613\n",
            "Epoch 275/400\n",
            "40/40 [==============================] - 0s 4ms/step - loss: 4361.3662 - val_loss: 4670.7935\n",
            "Epoch 276/400\n",
            "40/40 [==============================] - 0s 4ms/step - loss: 4349.4336 - val_loss: 4658.8442\n",
            "Epoch 277/400\n",
            "40/40 [==============================] - 0s 4ms/step - loss: 4339.1494 - val_loss: 4645.7090\n",
            "Epoch 278/400\n",
            "40/40 [==============================] - 0s 4ms/step - loss: 4327.3418 - val_loss: 4635.8989\n",
            "Epoch 279/400\n",
            "40/40 [==============================] - 0s 4ms/step - loss: 4314.6021 - val_loss: 4621.3999\n",
            "Epoch 280/400\n",
            "40/40 [==============================] - 0s 5ms/step - loss: 4304.0483 - val_loss: 4608.5029\n",
            "Epoch 281/400\n",
            "40/40 [==============================] - 0s 4ms/step - loss: 4291.3398 - val_loss: 4597.5688\n",
            "Epoch 282/400\n",
            "40/40 [==============================] - 0s 4ms/step - loss: 4282.3945 - val_loss: 4582.8882\n",
            "Epoch 283/400\n",
            "40/40 [==============================] - 0s 4ms/step - loss: 4266.9834 - val_loss: 4570.6450\n",
            "Epoch 284/400\n",
            "40/40 [==============================] - 0s 5ms/step - loss: 4258.6479 - val_loss: 4560.4053\n",
            "Epoch 285/400\n",
            "40/40 [==============================] - 0s 4ms/step - loss: 4244.2583 - val_loss: 4548.5176\n",
            "Epoch 286/400\n",
            "40/40 [==============================] - 0s 5ms/step - loss: 4235.5518 - val_loss: 4533.1338\n",
            "Epoch 287/400\n",
            "40/40 [==============================] - 0s 4ms/step - loss: 4220.6743 - val_loss: 4520.9409\n",
            "Epoch 288/400\n",
            "40/40 [==============================] - 0s 4ms/step - loss: 4211.8188 - val_loss: 4510.0308\n",
            "Epoch 289/400\n",
            "40/40 [==============================] - 0s 4ms/step - loss: 4210.7148 - val_loss: 4499.5361\n",
            "Epoch 290/400\n",
            "40/40 [==============================] - 0s 4ms/step - loss: 4186.1724 - val_loss: 4484.9468\n",
            "Epoch 291/400\n",
            "40/40 [==============================] - 0s 5ms/step - loss: 4176.5098 - val_loss: 4474.6406\n",
            "Epoch 292/400\n",
            "40/40 [==============================] - 0s 4ms/step - loss: 4164.2544 - val_loss: 4461.6226\n",
            "Epoch 293/400\n",
            "40/40 [==============================] - 0s 4ms/step - loss: 4150.5933 - val_loss: 4449.7559\n",
            "Epoch 294/400\n",
            "40/40 [==============================] - 0s 4ms/step - loss: 4143.5674 - val_loss: 4439.2207\n",
            "Epoch 295/400\n",
            "40/40 [==============================] - 0s 4ms/step - loss: 4132.3887 - val_loss: 4425.6948\n",
            "Epoch 296/400\n",
            "40/40 [==============================] - 0s 5ms/step - loss: 4118.6206 - val_loss: 4413.5635\n",
            "Epoch 297/400\n",
            "40/40 [==============================] - 0s 4ms/step - loss: 4108.1543 - val_loss: 4402.8833\n",
            "Epoch 298/400\n",
            "40/40 [==============================] - 0s 4ms/step - loss: 4095.1816 - val_loss: 4391.1616\n",
            "Epoch 299/400\n",
            "40/40 [==============================] - 0s 4ms/step - loss: 4088.2661 - val_loss: 4379.9121\n",
            "Epoch 300/400\n",
            "40/40 [==============================] - 0s 4ms/step - loss: 4074.6636 - val_loss: 4368.1548\n",
            "Epoch 301/400\n",
            "40/40 [==============================] - 0s 4ms/step - loss: 4060.3125 - val_loss: 4356.3169\n",
            "Epoch 302/400\n",
            "40/40 [==============================] - 0s 4ms/step - loss: 4052.4011 - val_loss: 4344.7822\n",
            "Epoch 303/400\n",
            "40/40 [==============================] - 0s 5ms/step - loss: 4040.5884 - val_loss: 4333.2075\n",
            "Epoch 304/400\n",
            "40/40 [==============================] - 0s 5ms/step - loss: 4030.0132 - val_loss: 4322.3047\n",
            "Epoch 305/400\n",
            "40/40 [==============================] - 0s 4ms/step - loss: 4016.7520 - val_loss: 4311.3911\n",
            "Epoch 306/400\n",
            "40/40 [==============================] - 0s 5ms/step - loss: 4008.7922 - val_loss: 4298.7925\n",
            "Epoch 307/400\n",
            "40/40 [==============================] - 0s 5ms/step - loss: 3997.2854 - val_loss: 4288.0776\n",
            "Epoch 308/400\n",
            "40/40 [==============================] - 0s 4ms/step - loss: 3987.2715 - val_loss: 4275.9971\n",
            "Epoch 309/400\n",
            "40/40 [==============================] - 0s 5ms/step - loss: 3977.4487 - val_loss: 4265.3623\n",
            "Epoch 310/400\n",
            "40/40 [==============================] - 0s 4ms/step - loss: 3967.3855 - val_loss: 4253.1748\n",
            "Epoch 311/400\n",
            "40/40 [==============================] - 0s 3ms/step - loss: 3953.9932 - val_loss: 4243.9761\n",
            "Epoch 312/400\n",
            "40/40 [==============================] - 0s 4ms/step - loss: 3944.9365 - val_loss: 4230.2168\n",
            "Epoch 313/400\n",
            "40/40 [==============================] - 0s 4ms/step - loss: 3938.8831 - val_loss: 4226.3755\n",
            "Epoch 314/400\n",
            "40/40 [==============================] - 0s 4ms/step - loss: 3925.4790 - val_loss: 4207.2812\n",
            "Epoch 315/400\n",
            "40/40 [==============================] - 0s 4ms/step - loss: 3911.1606 - val_loss: 4197.0127\n",
            "Epoch 316/400\n",
            "40/40 [==============================] - 0s 4ms/step - loss: 3908.9863 - val_loss: 4188.8647\n",
            "Epoch 317/400\n",
            "40/40 [==============================] - 0s 4ms/step - loss: 3891.3984 - val_loss: 4174.1890\n",
            "Epoch 318/400\n",
            "40/40 [==============================] - 0s 4ms/step - loss: 3878.6589 - val_loss: 4162.2402\n",
            "Epoch 319/400\n",
            "40/40 [==============================] - 0s 4ms/step - loss: 3871.2539 - val_loss: 4152.1641\n",
            "Epoch 320/400\n",
            "40/40 [==============================] - 0s 4ms/step - loss: 3862.1846 - val_loss: 4141.4575\n",
            "Epoch 321/400\n",
            "40/40 [==============================] - 0s 5ms/step - loss: 3855.0481 - val_loss: 4129.9131\n",
            "Epoch 322/400\n",
            "40/40 [==============================] - 0s 5ms/step - loss: 3839.8853 - val_loss: 4118.1934\n",
            "Epoch 323/400\n",
            "40/40 [==============================] - 0s 4ms/step - loss: 3826.8843 - val_loss: 4107.4097\n",
            "Epoch 324/400\n",
            "40/40 [==============================] - 0s 4ms/step - loss: 3818.0864 - val_loss: 4097.0137\n",
            "Epoch 325/400\n",
            "40/40 [==============================] - 0s 5ms/step - loss: 3808.3730 - val_loss: 4085.2288\n",
            "Epoch 326/400\n",
            "40/40 [==============================] - 0s 4ms/step - loss: 3802.1306 - val_loss: 4073.9434\n",
            "Epoch 327/400\n",
            "40/40 [==============================] - 0s 4ms/step - loss: 3789.4392 - val_loss: 4062.7224\n",
            "Epoch 328/400\n",
            "40/40 [==============================] - 0s 4ms/step - loss: 3780.9756 - val_loss: 4052.7363\n",
            "Epoch 329/400\n",
            "40/40 [==============================] - 0s 4ms/step - loss: 3770.4871 - val_loss: 4042.6877\n",
            "Epoch 330/400\n",
            "40/40 [==============================] - 0s 5ms/step - loss: 3757.6670 - val_loss: 4030.8025\n",
            "Epoch 331/400\n",
            "40/40 [==============================] - 0s 4ms/step - loss: 3745.9167 - val_loss: 4020.6960\n",
            "Epoch 332/400\n",
            "40/40 [==============================] - 0s 4ms/step - loss: 3737.5142 - val_loss: 4008.7146\n",
            "Epoch 333/400\n",
            "40/40 [==============================] - 0s 5ms/step - loss: 3728.1104 - val_loss: 3998.7070\n",
            "Epoch 334/400\n",
            "40/40 [==============================] - 0s 5ms/step - loss: 3718.8379 - val_loss: 3988.3088\n",
            "Epoch 335/400\n",
            "40/40 [==============================] - 0s 4ms/step - loss: 3706.8977 - val_loss: 3977.1030\n",
            "Epoch 336/400\n",
            "40/40 [==============================] - 0s 4ms/step - loss: 3697.1379 - val_loss: 3966.9006\n",
            "Epoch 337/400\n",
            "40/40 [==============================] - 0s 4ms/step - loss: 3689.3169 - val_loss: 3957.1543\n",
            "Epoch 338/400\n",
            "40/40 [==============================] - 0s 4ms/step - loss: 3678.3057 - val_loss: 3945.1826\n",
            "Epoch 339/400\n",
            "40/40 [==============================] - 0s 4ms/step - loss: 3667.8887 - val_loss: 3933.9573\n",
            "Epoch 340/400\n",
            "40/40 [==============================] - 0s 4ms/step - loss: 3657.7065 - val_loss: 3923.9963\n",
            "Epoch 341/400\n",
            "40/40 [==============================] - 0s 4ms/step - loss: 3647.7549 - val_loss: 3913.5425\n",
            "Epoch 342/400\n",
            "40/40 [==============================] - 0s 4ms/step - loss: 3640.2319 - val_loss: 3902.9473\n",
            "Epoch 343/400\n",
            "40/40 [==============================] - 0s 5ms/step - loss: 3633.7397 - val_loss: 3895.8574\n",
            "Epoch 344/400\n",
            "40/40 [==============================] - 0s 4ms/step - loss: 3624.1021 - val_loss: 3883.8374\n",
            "Epoch 345/400\n",
            "40/40 [==============================] - 0s 4ms/step - loss: 3615.6912 - val_loss: 3872.9458\n",
            "Epoch 346/400\n",
            "40/40 [==============================] - 0s 5ms/step - loss: 3598.5271 - val_loss: 3864.3357\n",
            "Epoch 347/400\n",
            "40/40 [==============================] - 0s 4ms/step - loss: 3592.7649 - val_loss: 3853.9817\n",
            "Epoch 348/400\n",
            "40/40 [==============================] - 0s 5ms/step - loss: 3583.1633 - val_loss: 3844.4492\n",
            "Epoch 349/400\n",
            "40/40 [==============================] - 0s 4ms/step - loss: 3572.7017 - val_loss: 3834.1292\n",
            "Epoch 350/400\n",
            "40/40 [==============================] - 0s 4ms/step - loss: 3563.5950 - val_loss: 3824.1414\n",
            "Epoch 351/400\n",
            "40/40 [==============================] - 0s 4ms/step - loss: 3554.1172 - val_loss: 3814.1389\n",
            "Epoch 352/400\n",
            "40/40 [==============================] - 0s 4ms/step - loss: 3559.7668 - val_loss: 3804.9011\n",
            "Epoch 353/400\n",
            "40/40 [==============================] - 0s 4ms/step - loss: 3535.8875 - val_loss: 3794.9929\n",
            "Epoch 354/400\n",
            "40/40 [==============================] - 0s 5ms/step - loss: 3528.2292 - val_loss: 3784.8813\n",
            "Epoch 355/400\n",
            "40/40 [==============================] - 0s 4ms/step - loss: 3517.8662 - val_loss: 3775.2185\n",
            "Epoch 356/400\n",
            "40/40 [==============================] - 0s 4ms/step - loss: 3509.8013 - val_loss: 3766.5989\n",
            "Epoch 357/400\n",
            "40/40 [==============================] - 0s 5ms/step - loss: 3496.5208 - val_loss: 3757.1338\n",
            "Epoch 358/400\n",
            "40/40 [==============================] - 0s 4ms/step - loss: 3492.9932 - val_loss: 3747.5190\n",
            "Epoch 359/400\n",
            "40/40 [==============================] - 0s 4ms/step - loss: 3481.5867 - val_loss: 3736.9141\n",
            "Epoch 360/400\n",
            "40/40 [==============================] - 0s 5ms/step - loss: 3470.6406 - val_loss: 3727.7993\n",
            "Epoch 361/400\n",
            "40/40 [==============================] - 0s 4ms/step - loss: 3462.2361 - val_loss: 3719.4873\n",
            "Epoch 362/400\n",
            "40/40 [==============================] - 0s 5ms/step - loss: 3455.7588 - val_loss: 3709.9565\n",
            "Epoch 363/400\n",
            "40/40 [==============================] - 0s 4ms/step - loss: 3449.5713 - val_loss: 3705.2739\n",
            "Epoch 364/400\n",
            "40/40 [==============================] - 0s 5ms/step - loss: 3436.0078 - val_loss: 3692.9253\n",
            "Epoch 365/400\n",
            "40/40 [==============================] - 0s 5ms/step - loss: 3426.3069 - val_loss: 3682.7715\n",
            "Epoch 366/400\n",
            "40/40 [==============================] - 0s 4ms/step - loss: 3417.1519 - val_loss: 3673.2380\n",
            "Epoch 367/400\n",
            "40/40 [==============================] - 0s 5ms/step - loss: 3411.3301 - val_loss: 3666.7593\n",
            "Epoch 368/400\n",
            "40/40 [==============================] - 0s 4ms/step - loss: 3402.8533 - val_loss: 3658.2954\n",
            "Epoch 369/400\n",
            "40/40 [==============================] - 0s 5ms/step - loss: 3392.7266 - val_loss: 3647.0740\n",
            "Epoch 370/400\n",
            "40/40 [==============================] - 0s 4ms/step - loss: 3387.9785 - val_loss: 3638.3994\n",
            "Epoch 371/400\n",
            "40/40 [==============================] - 0s 4ms/step - loss: 3379.3169 - val_loss: 3632.3491\n",
            "Epoch 372/400\n",
            "40/40 [==============================] - 0s 4ms/step - loss: 3367.5083 - val_loss: 3622.4019\n",
            "Epoch 373/400\n",
            "40/40 [==============================] - 0s 4ms/step - loss: 3360.0728 - val_loss: 3612.9734\n",
            "Epoch 374/400\n",
            "40/40 [==============================] - 0s 4ms/step - loss: 3351.1721 - val_loss: 3604.9043\n",
            "Epoch 375/400\n",
            "40/40 [==============================] - 0s 4ms/step - loss: 3343.0544 - val_loss: 3595.4077\n",
            "Epoch 376/400\n",
            "40/40 [==============================] - 0s 4ms/step - loss: 3333.5608 - val_loss: 3587.8916\n",
            "Epoch 377/400\n",
            "40/40 [==============================] - 0s 4ms/step - loss: 3324.9966 - val_loss: 3578.4314\n",
            "Epoch 378/400\n",
            "40/40 [==============================] - 0s 5ms/step - loss: 3316.7888 - val_loss: 3569.5808\n",
            "Epoch 379/400\n",
            "40/40 [==============================] - 0s 4ms/step - loss: 3310.1963 - val_loss: 3561.7317\n",
            "Epoch 380/400\n",
            "40/40 [==============================] - 0s 5ms/step - loss: 3302.8845 - val_loss: 3552.7253\n",
            "Epoch 381/400\n",
            "40/40 [==============================] - 0s 5ms/step - loss: 3293.0869 - val_loss: 3542.9739\n",
            "Epoch 382/400\n",
            "40/40 [==============================] - 0s 4ms/step - loss: 3284.0334 - val_loss: 3540.3823\n",
            "Epoch 383/400\n",
            "40/40 [==============================] - 0s 4ms/step - loss: 3280.7039 - val_loss: 3526.6746\n",
            "Epoch 384/400\n",
            "40/40 [==============================] - 0s 4ms/step - loss: 3268.9399 - val_loss: 3519.7917\n",
            "Epoch 385/400\n",
            "40/40 [==============================] - 0s 4ms/step - loss: 3259.3005 - val_loss: 3509.8516\n",
            "Epoch 386/400\n",
            "40/40 [==============================] - 0s 5ms/step - loss: 3252.6750 - val_loss: 3501.8464\n",
            "Epoch 387/400\n",
            "40/40 [==============================] - 0s 5ms/step - loss: 3243.5811 - val_loss: 3494.2170\n",
            "Epoch 388/400\n",
            "40/40 [==============================] - 0s 4ms/step - loss: 3238.1436 - val_loss: 3484.8218\n",
            "Epoch 389/400\n",
            "40/40 [==============================] - 0s 4ms/step - loss: 3230.7803 - val_loss: 3479.1223\n",
            "Epoch 390/400\n",
            "40/40 [==============================] - 0s 5ms/step - loss: 3224.0078 - val_loss: 3470.3123\n",
            "Epoch 391/400\n",
            "40/40 [==============================] - 0s 4ms/step - loss: 3212.3164 - val_loss: 3460.3760\n",
            "Epoch 392/400\n",
            "40/40 [==============================] - 0s 4ms/step - loss: 3205.5010 - val_loss: 3452.1750\n",
            "Epoch 393/400\n",
            "40/40 [==============================] - 0s 5ms/step - loss: 3196.5542 - val_loss: 3443.7795\n",
            "Epoch 394/400\n",
            "40/40 [==============================] - 0s 5ms/step - loss: 3189.1399 - val_loss: 3436.7078\n",
            "Epoch 395/400\n",
            "40/40 [==============================] - 0s 4ms/step - loss: 3183.9524 - val_loss: 3432.8630\n",
            "Epoch 396/400\n",
            "40/40 [==============================] - 0s 4ms/step - loss: 3176.0581 - val_loss: 3420.9631\n",
            "Epoch 397/400\n",
            "40/40 [==============================] - 0s 5ms/step - loss: 3168.6343 - val_loss: 3412.0925\n",
            "Epoch 398/400\n",
            "40/40 [==============================] - 0s 4ms/step - loss: 3160.7732 - val_loss: 3403.7791\n",
            "Epoch 399/400\n",
            "40/40 [==============================] - 0s 4ms/step - loss: 3149.2549 - val_loss: 3395.4719\n",
            "Epoch 400/400\n",
            "40/40 [==============================] - 0s 5ms/step - loss: 3143.4285 - val_loss: 3390.2642\n"
          ]
        }
      ]
    },
    {
      "cell_type": "code",
      "source": [
        "elapsed_time = end - start\n",
        "print('Execution time:', elapsed_time, 'seconds')"
      ],
      "metadata": {
        "colab": {
          "base_uri": "https://localhost:8080/"
        },
        "id": "b9BpbuHpZ0d5",
        "outputId": "2860fca8-7e29-4607-a7c3-8ea64cbc82f5"
      },
      "execution_count": null,
      "outputs": [
        {
          "output_type": "stream",
          "name": "stdout",
          "text": [
            "Execution time: 70.54219841957092 seconds\n"
          ]
        }
      ]
    },
    {
      "cell_type": "code",
      "source": [
        "losses = pd.DataFrame(model.history.history)"
      ],
      "metadata": {
        "id": "QRqg6XSafUyz"
      },
      "execution_count": null,
      "outputs": []
    },
    {
      "cell_type": "code",
      "source": [
        "losses.plot()\n",
        "\n",
        "plt.xlabel(\"Epochs\")\n",
        "plt.ylabel(\"Loss(MSE)\")\n",
        "plt.savefig('loss.png',dpi=400)"
      ],
      "metadata": {
        "colab": {
          "base_uri": "https://localhost:8080/",
          "height": 283
        },
        "id": "2szVCEf7gHwJ",
        "outputId": "523457d8-b3bb-4513-c479-24a8504843fc"
      },
      "execution_count": null,
      "outputs": [
        {
          "output_type": "display_data",
          "data": {
            "text/plain": [
              "<Figure size 432x288 with 1 Axes>"
            ],
            "image/png": "[encoded data removed]"
          },
          "metadata": {
            "needs_background": "light"
          }
        }
      ]
    },
    {
      "cell_type": "markdown",
      "source": [
        "Evaluation on Test Data"
      ],
      "metadata": {
        "id": "pM2TGlOwgUIh"
      }
    },
    {
      "cell_type": "code",
      "source": [
        "from sklearn.metrics import mean_squared_error,mean_absolute_error,explained_variance_score,mean_absolute_percentage_error,r2_score"
      ],
      "metadata": {
        "id": "E2QSKBfggL2A"
      },
      "execution_count": null,
      "outputs": []
    },
    {
      "cell_type": "code",
      "source": [
        "X_test\n"
      ],
      "metadata": {
        "colab": {
          "base_uri": "https://localhost:8080/"
        },
        "id": "TlucIjVqUTy8",
        "outputId": "e3499ba2-e2f7-4299-ce44-734498ab52f8"
      },
      "execution_count": null,
      "outputs": [
        {
          "output_type": "execute_result",
          "data": {
            "text/plain": [
              "array([[0.06060606, 0.6875    , 0.42857143, 0.        , 1.        ,\n",
              "        0.        ],\n",
              "       [0.49494949, 0.375     , 0.57142857, 0.        , 0.        ,\n",
              "        1.        ],\n",
              "       [0.19191919, 0.875     , 0.71428571, 0.        , 0.        ,\n",
              "        1.        ],\n",
              "       ...,\n",
              "       [0.19191919, 1.        , 0.        , 0.        , 1.        ,\n",
              "        0.        ],\n",
              "       [0.07070707, 0.125     , 0.42857143, 0.        , 0.        ,\n",
              "        0.        ],\n",
              "       [0.04040404, 0.125     , 0.        , 0.        , 1.        ,\n",
              "        0.        ]])"
            ]
          },
          "metadata": {},
          "execution_count": 65
        }
      ]
    },
    {
      "cell_type": "code",
      "source": [
        "\n",
        "predictions = model.predict(X_test)\n"
      ],
      "metadata": {
        "id": "rwPQRQKXS8lo"
      },
      "execution_count": null,
      "outputs": []
    },
    {
      "cell_type": "code",
      "source": [
        "start_pred=time.time()\n",
        "pred_one = model.predict(np.reshape(X_test[1,:],(1,6)))\n",
        "end_pred=time.time()\n",
        "print(end_pred-start_pred)"
      ],
      "metadata": {
        "colab": {
          "base_uri": "https://localhost:8080/"
        },
        "id": "MKtA88SuTnBv",
        "outputId": "a7cfb177-65c8-45de-b2b9-cec4f552c9bc"
      },
      "execution_count": null,
      "outputs": [
        {
          "output_type": "stream",
          "name": "stdout",
          "text": [
            "0.04430246353149414\n"
          ]
        }
      ]
    },
    {
      "cell_type": "code",
      "source": [
        "r2_score(y_test,predictions)"
      ],
      "metadata": {
        "id": "JvpPIP9wjgF7",
        "outputId": "1b885b85-54ef-4a6a-ad7f-86ae6ec41dd8",
        "colab": {
          "base_uri": "https://localhost:8080/"
        }
      },
      "execution_count": null,
      "outputs": [
        {
          "output_type": "execute_result",
          "data": {
            "text/plain": [
              "0.8867080396859484"
            ]
          },
          "metadata": {},
          "execution_count": 68
        }
      ]
    },
    {
      "cell_type": "code",
      "source": [
        "mean_absolute_percentage_error(y_test,predictions)"
      ],
      "metadata": {
        "id": "LgF6wI0ZelW7",
        "colab": {
          "base_uri": "https://localhost:8080/"
        },
        "outputId": "ee06d3a6-7134-4e7c-b053-e749e73c5034"
      },
      "execution_count": null,
      "outputs": [
        {
          "output_type": "execute_result",
          "data": {
            "text/plain": [
              "0.30103108567423165"
            ]
          },
          "metadata": {},
          "execution_count": 69
        }
      ]
    },
    {
      "cell_type": "code",
      "source": [
        "mean_absolute_error(y_test,predictions)"
      ],
      "metadata": {
        "colab": {
          "base_uri": "https://localhost:8080/"
        },
        "id": "oIDa8rwsggEP",
        "outputId": "8fbc0c72-eaea-4b64-cfe5-8b19cfe12a5d"
      },
      "execution_count": null,
      "outputs": [
        {
          "output_type": "execute_result",
          "data": {
            "text/plain": [
              "38.92803760186043"
            ]
          },
          "metadata": {},
          "execution_count": 70
        }
      ]
    },
    {
      "cell_type": "code",
      "source": [
        "np.sqrt(mean_squared_error(y_test,predictions))"
      ],
      "metadata": {
        "colab": {
          "base_uri": "https://localhost:8080/"
        },
        "id": "BJs8WLwOglSe",
        "outputId": "3cdc03be-5bf3-4086-d488-508b51fb78ff"
      },
      "execution_count": null,
      "outputs": [
        {
          "output_type": "execute_result",
          "data": {
            "text/plain": [
              "55.57524445332894"
            ]
          },
          "metadata": {},
          "execution_count": 71
        }
      ]
    },
    {
      "cell_type": "code",
      "source": [
        "#make dataframe of all the error metric data\n",
        "metrics_data = {'r\\u00b2 score':[r2_score(y_test['Column5'],predictions[:,0]),\n",
        "                                   r2_score(y_test['Column6'],predictions[:,1]),\n",
        "                                   r2_score(y_test['Column7'],predictions[:,2]),\n",
        "                                   r2_score(y_test['Column8'],predictions[:,3])],\n",
        "                \"MAPE\":[mean_absolute_percentage_error(y_test['Column5'],predictions[:,0]),\n",
        "                        mean_absolute_percentage_error(y_test['Column6'],predictions[:,1]),\n",
        "                        mean_absolute_percentage_error(y_test['Column7'],predictions[:,2]),\n",
        "                        mean_absolute_percentage_error(y_test['Column8'],predictions[:,3])],\n",
        "                \"MAE\":[mean_absolute_error(y_test['Column5'],predictions[:,0]),\n",
        "                       mean_absolute_error(y_test['Column6'],predictions[:,1]),\n",
        "                       mean_absolute_error(y_test['Column7'],predictions[:,2]),\n",
        "                       mean_absolute_error(y_test['Column8'],predictions[:,3])],\n",
        "                \"RMSE\":[np.sqrt(mean_squared_error(y_test['Column5'],predictions[:,0])),\n",
        "                         np.sqrt(mean_squared_error(y_test['Column6'],predictions[:,1])),\n",
        "                         np.sqrt(mean_squared_error(y_test['Column7'],predictions[:,2])),\n",
        "                         np.sqrt(mean_squared_error(y_test['Column8'],predictions[:,3]))]\n",
        "                                            \n",
        "                                            \n",
        "                }\n",
        "metrics = pd.DataFrame(metrics_data, index=['Torque(Nm) at 0 ' + u'\\N{DEGREE SIGN}','Torque(Nm) at 5 ' + u'\\N{DEGREE SIGN}','Torque(Nm) at 10 ' + u'\\N{DEGREE SIGN}','Torque(Nm) at 15 ' + u'\\N{DEGREE SIGN}'])\n"
      ],
      "metadata": {
        "id": "T8orDXr5mlPm"
      },
      "execution_count": null,
      "outputs": []
    },
    {
      "cell_type": "code",
      "source": [
        "print(metrics.to_latex()) #for thesis writing purposes"
      ],
      "metadata": {
        "colab": {
          "base_uri": "https://localhost:8080/"
        },
        "id": "OQn2uUNxFJyC",
        "outputId": "231e5b1b-8ea5-4e73-f770-2df071ba4140"
      },
      "execution_count": null,
      "outputs": [
        {
          "output_type": "stream",
          "name": "stdout",
          "text": [
            "\\begin{tabular}{lrrrr}\n",
            "\\toprule\n",
            "{} &  r² score &      MAPE &        MAE &       RMSE \\\\\n",
            "\\midrule\n",
            "Torque(Nm) at 0 °  &  0.894807 &  0.213017 &  44.180711 &  63.345560 \\\\\n",
            "Torque(Nm) at 5 °  &  0.890807 &  0.268578 &  36.365526 &  51.844716 \\\\\n",
            "Torque(Nm) at 10 ° &  0.887601 &  0.309928 &  37.031849 &  51.440558 \\\\\n",
            "Torque(Nm) at 15 ° &  0.873618 &  0.412601 &  38.134065 &  54.843100 \\\\\n",
            "\\bottomrule\n",
            "\\end{tabular}\n",
            "\n"
          ]
        }
      ]
    },
    {
      "cell_type": "code",
      "source": [
        "errors = y_test.values.reshape(2526, 4) - predictions\n",
        "perc_errors= (abs(y_test.values.reshape(2526, 4) - predictions))/y_test.values.reshape(2526, 4)"
      ],
      "metadata": {
        "id": "7Aq98hPDgr1j"
      },
      "execution_count": null,
      "outputs": []
    },
    {
      "cell_type": "code",
      "source": [
        "# Our predictions\n",
        "plt.scatter(y_test,predictions)\n",
        "\n",
        "# Perfect predictions\n",
        "plt.plot(y_test,y_test,'r',label='Perfect Predictions')\n",
        "plt.legend()"
      ],
      "metadata": {
        "colab": {
          "base_uri": "https://localhost:8080/",
          "height": 283
        },
        "id": "28oOWE7lnNeA",
        "outputId": "cc2dcf09-634f-49a4-d728-80563203dda7"
      },
      "execution_count": null,
      "outputs": [
        {
          "output_type": "execute_result",
          "data": {
            "text/plain": [
              "<matplotlib.legend.Legend at 0x7f1c920dc150>"
            ]
          },
          "metadata": {},
          "execution_count": 75
        },
        {
          "output_type": "display_data",
          "data": {
            "text/plain": [
              "<Figure size 432x288 with 1 Axes>"
            ],
            "image/png": "[encoded data removed]"
          },
          "metadata": {
            "needs_background": "light"
          }
        }
      ]
    },
    {
      "cell_type": "code",
      "source": [
        "perc_errors.shape"
      ],
      "metadata": {
        "colab": {
          "base_uri": "https://localhost:8080/"
        },
        "id": "JguY7GQ_8noT",
        "outputId": "d777b6b8-2630-4d2d-fb03-d894ef60e1f7"
      },
      "execution_count": null,
      "outputs": [
        {
          "output_type": "execute_result",
          "data": {
            "text/plain": [
              "(2526, 4)"
            ]
          },
          "metadata": {},
          "execution_count": 76
        }
      ]
    },
    {
      "cell_type": "code",
      "source": [
        "#plot distribution of percentage errors \n",
        "fig, axes = plt.subplots(nrows=2, ncols=2)\n",
        "axes[0,0].hist(perc_errors[:,0],bins=100)\n",
        "axes[0,0].set_xlabel('Percentage Error')\n",
        "axes[0,0].set_ylabel('Count')\n",
        "axes[0,0].set_title('Torque(Nm) at 0 ' + u'\\N{DEGREE SIGN}' )\n",
        "\n",
        "axes[0,1].hist(perc_errors[:,1],bins=100)\n",
        "axes[0,1].set_xlabel('Percentage Error')\n",
        "axes[0,1].set_ylabel('Count')\n",
        "axes[0,1].set_title('Torque(Nm) at 5 ' + u'\\N{DEGREE SIGN}' )\n",
        "\n",
        "\n",
        "axes[1,0].hist(perc_errors[:,2],bins=100)\n",
        "axes[1,0].set_xlabel('Percentage Error')\n",
        "axes[1,0].set_ylabel('Count')\n",
        "axes[1,0].set_title('Torque(Nm) at 10 ' + u'\\N{DEGREE SIGN}' )\n",
        "\n",
        "\n",
        "axes[1,1].hist(perc_errors[:,3],bins=100)\n",
        "axes[1,1].set_xlabel('Percentage Error')\n",
        "axes[1,1].set_ylabel('Count')\n",
        "axes[1,1].set_title('Torque(Nm) at 15 ' + u'\\N{DEGREE SIGN}' )\n",
        "\n",
        "\n",
        "\n",
        "\n",
        "plt.tight_layout()\n",
        "plt.savefig('perc_error_dist',dpi=400)"
      ],
      "metadata": {
        "colab": {
          "base_uri": "https://localhost:8080/",
          "height": 297
        },
        "id": "SeGfXx8owaSF",
        "outputId": "d7f3bf76-d4d8-4d77-f629-18daae99ab20"
      },
      "execution_count": null,
      "outputs": [
        {
          "output_type": "display_data",
          "data": {
            "text/plain": [
              "<Figure size 432x288 with 4 Axes>"
            ],
            "image/png": "[encoded data removed]"
          },
          "metadata": {
            "needs_background": "light"
          }
        }
      ]
    },
    {
      "cell_type": "code",
      "source": [
        "#plot predictions vs true values\n",
        "fig, axes = plt.subplots(nrows=2, ncols=2)\n",
        "axes[0,0].scatter(y_test['Column5'],predictions[:,0])\n",
        "axes[0,0].set_xlabel('Actual Torque')\n",
        "axes[0,0].set_ylabel('Predicted Torque')\n",
        "axes[0,0].set_title('Torque(Nm) at 0 ' + u'\\N{DEGREE SIGN}' )\n",
        "axes[0,0].plot(y_test['Column5'],y_test['Column5'],'r',label='Perfect Predictions')\n",
        "\n",
        "axes[0,1].scatter(y_test['Column6'],predictions[:,1])\n",
        "axes[0,1].set_xlabel('Actual Torque')\n",
        "axes[0,1].set_ylabel('Predicted Torque')\n",
        "axes[0,1].set_title('Torque(Nm) at 5 ' + u'\\N{DEGREE SIGN}' )\n",
        "axes[0,1].plot(y_test['Column6'],y_test['Column6'],'r',label='Perfect Predictions')\n",
        "\n",
        "axes[1,0].scatter(y_test['Column7'],predictions[:,2])\n",
        "axes[1,0].set_xlabel('Actual Torque')\n",
        "axes[1,0].set_ylabel('Predicted Torque')\n",
        "axes[1,0].set_title('Torque(Nm) at 10 ' + u'\\N{DEGREE SIGN}' )\n",
        "axes[1,0].plot(y_test['Column7'],y_test['Column7'],'r',label='Perfect Predictions')\n",
        "\n",
        "axes[1,1].scatter(y_test['Column8'],predictions[:,3])\n",
        "axes[1,1].set_xlabel('Actual Torque')\n",
        "axes[1,1].set_ylabel('Predicted Torque')\n",
        "axes[1,1].set_title('Torque(Nm) at 15 ' + u'\\N{DEGREE SIGN}' )\n",
        "axes[1,1].plot(y_test['Column8'],y_test['Column8'],'r',label='Perfect Predictions')\n",
        "\n",
        "\n",
        "\n",
        "plt.tight_layout()\n",
        "plt.savefig('scatter',dpi=400)\n"
      ],
      "metadata": {
        "colab": {
          "base_uri": "https://localhost:8080/",
          "height": 297
        },
        "id": "_EOzr4V20uwO",
        "outputId": "65f82a7f-64ba-4766-bf3a-fc39310ca657"
      },
      "execution_count": null,
      "outputs": [
        {
          "output_type": "display_data",
          "data": {
            "text/plain": [
              "<Figure size 432x288 with 4 Axes>"
            ],
            "image/png": "[encoded data removed]"
          },
          "metadata": {
            "needs_background": "light"
          }
        }
      ]
    }
  ]
}